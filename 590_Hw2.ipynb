{
 "cells": [
  {
   "cell_type": "code",
   "execution_count": 0,
   "metadata": {
    "colab": {},
    "colab_type": "code",
    "id": "xnagLFaZqMl4"
   },
   "outputs": [],
   "source": [
    "##Question1 Autoencoder"
   ]
  },
  {
   "cell_type": "code",
   "execution_count": 0,
   "metadata": {
    "colab": {},
    "colab_type": "code",
    "id": "xvBjiLgFqMl9"
   },
   "outputs": [],
   "source": [
    "import tensorflow as tf\n",
    "from keras.layers import Input, Dense, Conv2D, MaxPooling2D, UpSampling2D\n",
    "from keras.models import Model\n",
    "from keras import backend as K"
   ]
  },
  {
   "cell_type": "code",
   "execution_count": 0,
   "metadata": {
    "colab": {},
    "colab_type": "code",
    "id": "Nqq_7JoeqMl_",
    "outputId": "a0275be0-59d1-46f7-ee46-2eae0cf0078d",
    "scrolled": true
   },
   "outputs": [
    {
     "name": "stdout",
     "output_type": "stream",
     "text": [
      "Downloading data from https://storage.googleapis.com/tensorflow/tf-keras-datasets/train-labels-idx1-ubyte.gz\n",
      "32768/29515 [=================================] - 0s 1us/step\n",
      "Downloading data from https://storage.googleapis.com/tensorflow/tf-keras-datasets/train-images-idx3-ubyte.gz\n",
      "26427392/26421880 [==============================] - 1s 0us/step\n",
      "Downloading data from https://storage.googleapis.com/tensorflow/tf-keras-datasets/t10k-labels-idx1-ubyte.gz\n",
      "8192/5148 [===============================================] - 0s 0us/step\n",
      "Downloading data from https://storage.googleapis.com/tensorflow/tf-keras-datasets/t10k-images-idx3-ubyte.gz\n",
      "4423680/4422102 [==============================] - 0s 0us/step\n"
     ]
    }
   ],
   "source": [
    "##import fmnist data\n",
    "(x_train, y_train), (x_test, y_test) = tf.keras.datasets.fashion_mnist.load_data()"
   ]
  },
  {
   "cell_type": "code",
   "execution_count": 0,
   "metadata": {
    "colab": {},
    "colab_type": "code",
    "id": "EY7phMoaqMmE"
   },
   "outputs": [],
   "source": [
    "##we will just normalize pixel values between 0 and 1\n",
    "x_train = x_train.astype('float32') / 255.\n",
    "x_test = x_test.astype('float32') / 255."
   ]
  },
  {
   "cell_type": "code",
   "execution_count": 0,
   "metadata": {
    "colab": {},
    "colab_type": "code",
    "id": "NNMj4vkGqMmH"
   },
   "outputs": [],
   "source": [
    "import numpy as np\n",
    "x_train = np.reshape(x_train, (len(x_train), 28, 28, 1))\n",
    "x_test = np.reshape(x_test, (len(x_test), 28, 28, 1)) \n",
    "print(x_train.shape)\n",
    "print(x_test.shape)"
   ]
  },
  {
   "cell_type": "code",
   "execution_count": 0,
   "metadata": {
    "colab": {},
    "colab_type": "code",
    "id": "oREPSVauqMmJ"
   },
   "outputs": [],
   "source": [
    "input_img = Input(shape=(28, 28, 1))  # adapt this if using `channels_first` image data format\n",
    "\n",
    "x = Conv2D(16, (3, 3), activation='relu', padding='same')(input_img)\n",
    "x = MaxPooling2D((2, 2), padding='same')(x)\n",
    "x = Conv2D(8, (3, 3), activation='relu', padding='same')(x)\n",
    "x = MaxPooling2D((2, 2), padding='same')(x)\n",
    "x = Conv2D(8, (3, 3), activation='relu', padding='same')(x)\n",
    "encoded = MaxPooling2D((2, 2), padding='same')(x)\n",
    "\n",
    "# at this point the representation is (4, 4, 8) i.e. 128-dimensional\n",
    "\n",
    "x = Conv2D(8, (3, 3), activation='relu', padding='same')(encoded)\n",
    "x = UpSampling2D((2, 2))(x)\n",
    "x = Conv2D(8, (3, 3), activation='relu', padding='same')(x)\n",
    "x = UpSampling2D((2, 2))(x)\n",
    "x = Conv2D(16, (3, 3), activation='relu')(x)\n",
    "x = UpSampling2D((2, 2))(x)\n",
    "decoded = Conv2D(1, (3, 3), activation='sigmoid', padding='same')(x)\n",
    "\n",
    "autoencoder = Model(input_img, decoded)\n",
    "autoencoder.compile(optimizer='adadelta', loss='binary_crossentropy')"
   ]
  },
  {
   "cell_type": "code",
   "execution_count": 0,
   "metadata": {
    "colab": {},
    "colab_type": "code",
    "id": "p_A-cdu3qMmL",
    "outputId": "07269910-e23b-4b3b-95f5-84008c40e830"
   },
   "outputs": [
    {
     "name": "stdout",
     "output_type": "stream",
     "text": [
      "Train on 60000 samples, validate on 10000 samples\n",
      "Epoch 1/50\n",
      "60000/60000 [==============================] - 48s 799us/step - loss: 0.3700 - val_loss: 0.3330\n",
      "Epoch 2/50\n",
      "60000/60000 [==============================] - 45s 754us/step - loss: 0.3248 - val_loss: 0.3168\n",
      "Epoch 3/50\n",
      "60000/60000 [==============================] - 45s 751us/step - loss: 0.3141 - val_loss: 0.3084\n",
      "Epoch 4/50\n",
      "60000/60000 [==============================] - 48s 802us/step - loss: 0.3079 - val_loss: 0.3066\n",
      "Epoch 5/50\n",
      "60000/60000 [==============================] - 46s 759us/step - loss: 0.3042 - val_loss: 0.3063\n",
      "Epoch 6/50\n",
      "60000/60000 [==============================] - 47s 787us/step - loss: 0.3016 - val_loss: 0.3018\n",
      "Epoch 7/50\n",
      "60000/60000 [==============================] - 50s 841us/step - loss: 0.2997 - val_loss: 0.3017\n",
      "Epoch 8/50\n",
      "60000/60000 [==============================] - 49s 813us/step - loss: 0.2984 - val_loss: 0.3048\n",
      "Epoch 9/50\n",
      "60000/60000 [==============================] - 52s 873us/step - loss: 0.2971 - val_loss: 0.2982\n",
      "Epoch 10/50\n",
      "60000/60000 [==============================] - 46s 770us/step - loss: 0.2956 - val_loss: 0.3010\n",
      "Epoch 11/50\n",
      "60000/60000 [==============================] - 47s 782us/step - loss: 0.2947 - val_loss: 0.2960\n",
      "Epoch 12/50\n",
      "60000/60000 [==============================] - 48s 793us/step - loss: 0.2939 - val_loss: 0.2953\n",
      "Epoch 13/50\n",
      "60000/60000 [==============================] - 49s 822us/step - loss: 0.2931 - val_loss: 0.2958\n",
      "Epoch 14/50\n",
      "60000/60000 [==============================] - 48s 796us/step - loss: 0.2926 - val_loss: 0.2941\n",
      "Epoch 15/50\n",
      "60000/60000 [==============================] - 46s 759us/step - loss: 0.2918 - val_loss: 0.2960\n",
      "Epoch 16/50\n",
      "60000/60000 [==============================] - 46s 770us/step - loss: 0.2914 - val_loss: 0.2947\n",
      "Epoch 17/50\n",
      "60000/60000 [==============================] - 46s 765us/step - loss: 0.2910 - val_loss: 0.2898\n",
      "Epoch 18/50\n",
      "60000/60000 [==============================] - 46s 766us/step - loss: 0.2907 - val_loss: 0.2924\n",
      "Epoch 19/50\n",
      "60000/60000 [==============================] - 48s 804us/step - loss: 0.2901 - val_loss: 0.2915\n",
      "Epoch 20/50\n",
      "60000/60000 [==============================] - 46s 761us/step - loss: 0.2902 - val_loss: 0.2924\n",
      "Epoch 21/50\n",
      "60000/60000 [==============================] - 46s 759us/step - loss: 0.2897 - val_loss: 0.2900\n",
      "Epoch 22/50\n",
      "60000/60000 [==============================] - 47s 776us/step - loss: 0.2895 - val_loss: 0.2915\n",
      "Epoch 23/50\n",
      "60000/60000 [==============================] - 45s 757us/step - loss: 0.2892 - val_loss: 0.2916\n",
      "Epoch 24/50\n",
      "60000/60000 [==============================] - 46s 763us/step - loss: 0.2885 - val_loss: 0.2920\n",
      "Epoch 25/50\n",
      "60000/60000 [==============================] - 5306s 88ms/step - loss: 0.2885 - val_loss: 0.2906\n",
      "Epoch 26/50\n",
      "60000/60000 [==============================] - 54s 905us/step - loss: 0.2882 - val_loss: 0.2911\n",
      "Epoch 27/50\n",
      "60000/60000 [==============================] - 55s 915us/step - loss: 0.2877 - val_loss: 0.2923\n",
      "Epoch 28/50\n",
      "60000/60000 [==============================] - 62s 1ms/step - loss: 0.2873 - val_loss: 0.2924\n",
      "Epoch 29/50\n",
      "60000/60000 [==============================] - 50s 841us/step - loss: 0.2875 - val_loss: 0.2914\n",
      "Epoch 30/50\n",
      "60000/60000 [==============================] - 50s 837us/step - loss: 0.2873 - val_loss: 0.2883\n",
      "Epoch 31/50\n",
      "60000/60000 [==============================] - 47s 779us/step - loss: 0.2870 - val_loss: 0.2873\n",
      "Epoch 32/50\n",
      "60000/60000 [==============================] - 51s 849us/step - loss: 0.2865 - val_loss: 0.2882\n",
      "Epoch 33/50\n",
      "60000/60000 [==============================] - 54s 893us/step - loss: 0.2864 - val_loss: 0.2881\n",
      "Epoch 34/50\n",
      "60000/60000 [==============================] - 53s 883us/step - loss: 0.2862 - val_loss: 0.2877\n",
      "Epoch 35/50\n",
      "60000/60000 [==============================] - 52s 863us/step - loss: 0.2864 - val_loss: 0.2905\n",
      "Epoch 36/50\n",
      "60000/60000 [==============================] - 54s 892us/step - loss: 0.2865 - val_loss: 0.2913\n",
      "Epoch 37/50\n",
      "60000/60000 [==============================] - 52s 860us/step - loss: 0.2861 - val_loss: 0.2896\n",
      "Epoch 38/50\n",
      "60000/60000 [==============================] - 52s 863us/step - loss: 0.2856 - val_loss: 0.2877\n",
      "Epoch 39/50\n",
      "60000/60000 [==============================] - 49s 822us/step - loss: 0.2859 - val_loss: 0.2863\n",
      "Epoch 40/50\n",
      "60000/60000 [==============================] - 50s 833us/step - loss: 0.2859 - val_loss: 0.2895\n",
      "Epoch 41/50\n",
      "60000/60000 [==============================] - 54s 897us/step - loss: 0.2856 - val_loss: 0.2858\n",
      "Epoch 42/50\n",
      "60000/60000 [==============================] - 47s 778us/step - loss: 0.2859 - val_loss: 0.2911\n",
      "Epoch 43/50\n",
      "60000/60000 [==============================] - 50s 841us/step - loss: 0.2855 - val_loss: 0.2897\n",
      "Epoch 44/50\n",
      "60000/60000 [==============================] - 49s 818us/step - loss: 0.2858 - val_loss: 0.2930\n",
      "Epoch 45/50\n",
      "60000/60000 [==============================] - 53s 878us/step - loss: 0.2854 - val_loss: 0.2873\n",
      "Epoch 46/50\n",
      "60000/60000 [==============================] - 50s 838us/step - loss: 0.2850 - val_loss: 0.2874\n",
      "Epoch 47/50\n",
      "60000/60000 [==============================] - 53s 892us/step - loss: 0.2853 - val_loss: 0.2852\n",
      "Epoch 48/50\n",
      "60000/60000 [==============================] - 55s 915us/step - loss: 0.2852 - val_loss: 0.2872\n",
      "Epoch 49/50\n",
      "60000/60000 [==============================] - 49s 819us/step - loss: 0.2851 - val_loss: 0.2867\n",
      "Epoch 50/50\n",
      "60000/60000 [==============================] - 49s 812us/step - loss: 0.2852 - val_loss: 0.2865\n"
     ]
    },
    {
     "data": {
      "text/plain": [
       "<keras.callbacks.History at 0x11efd1898>"
      ]
     },
     "execution_count": 13,
     "metadata": {
      "tags": []
     },
     "output_type": "execute_result"
    }
   ],
   "source": [
    "autoencoder.fit(x_train, x_train,\n",
    "                epochs=50,\n",
    "                batch_size=128,\n",
    "                shuffle=True,\n",
    "                validation_data=(x_test, x_test))"
   ]
  },
  {
   "cell_type": "code",
   "execution_count": 0,
   "metadata": {
    "colab": {},
    "colab_type": "code",
    "id": "BbMYQFE1qMmO",
    "outputId": "e28a3f5a-1a02-4b16-e3f4-761df32ce92b"
   },
   "outputs": [
    {
     "data": {
      "image/png": "[encoded data removed]",
      "text/plain": [
       "<Figure size 720x288 with 20 Axes>"
      ]
     },
     "metadata": {
      "needs_background": "light",
      "tags": []
     },
     "output_type": "display_data"
    }
   ],
   "source": [
    "import matplotlib.pyplot as plt\n",
    "\n",
    "n = 10\n",
    "plt.figure(figsize=(10,4))\n",
    "\n",
    "for i in range(n):\n",
    "    ax = plt.subplot(2, n, i+1)\n",
    "    plt.imshow(x_test[i].reshape(28, 28))\n",
    "    plt.gray()\n",
    "    ax.get_xaxis().set_visible(False)\n",
    "    ax.get_yaxis().set_visible(False)\n",
    "\n",
    "    # display reconstruction\n",
    "    ax = plt.subplot(2, n, i + 1 + n)\n",
    "    plt.imshow(decoded_imgs[i].reshape(28, 28))\n",
    "    plt.gray()\n",
    "    ax.get_xaxis().set_visible(False)\n",
    "    ax.get_yaxis().set_visible(False)\n",
    "plt.show()"
   ]
  },
  {
   "cell_type": "code",
   "execution_count": 0,
   "metadata": {
    "colab": {},
    "colab_type": "code",
    "id": "IbGsJutPqMmQ"
   },
   "outputs": [],
   "source": [
    "###############2.Image Classification##############\n",
    "#2.1 Deep CNN\n",
    "#Build a deep CNN to classify the images. \n",
    "#Provide a brief description of the architectural choices you’ve made: \n",
    "#kernel sizes, strides, padding, network depth. \n",
    "#Train your network end-to-end. \n",
    "#Report on your model’s performance on training set and test se"
   ]
  },
  {
   "cell_type": "code",
   "execution_count": null,
   "metadata": {},
   "outputs": [],
   "source": [
    "For this problem, I use mnist as dataset and build an CNN with 2 convolutional layers, then a max pooling layer, and\n",
    "a convolutional layer, a flatten layer and dense layer.\n",
    "\n",
    "The neural network was trained with kernel size 3 by 3, \n",
    "simply set the strides with 1, and no padding therefore in code I wrote padding='VALID'\n",
    "\n",
    "For the result, I filtered with just 5 epochs, and used 128 batches to achieve an accuracy over 98%. \n"
   ]
  },
  {
   "cell_type": "code",
   "execution_count": 1,
   "metadata": {
    "colab": {
     "base_uri": "https://localhost:8080/",
     "height": 34
    },
    "colab_type": "code",
    "id": "NBqsqoKWqMmU",
    "outputId": "534e2f3a-3d58-4374-f820-2ba36f7bddc0"
   },
   "outputs": [
    {
     "name": "stderr",
     "output_type": "stream",
     "text": [
      "Using TensorFlow backend.\n"
     ]
    }
   ],
   "source": [
    "import tensorflow as tf\n",
    "import keras\n",
    "import numpy as np\n",
    "from matplotlib import pyplot as plt\n",
    "import pandas as pd\n",
    "\n",
    "np.random.seed(123)"
   ]
  },
  {
   "cell_type": "code",
   "execution_count": 0,
   "metadata": {
    "colab": {},
    "colab_type": "code",
    "id": "UL43jVshqMmW"
   },
   "outputs": [],
   "source": [
    "from keras.models import Sequential\n",
    "from keras.layers import Dense, Dropout, Activation, Flatten\n",
    "from keras.layers import Conv2D, MaxPooling2D\n",
    "from keras.utils import np_utils"
   ]
  },
  {
   "cell_type": "code",
   "execution_count": 0,
   "metadata": {
    "colab": {},
    "colab_type": "code",
    "id": "lNSfZoOjqMmY"
   },
   "outputs": [],
   "source": [
    "from keras.datasets import mnist"
   ]
  },
  {
   "cell_type": "code",
   "execution_count": 4,
   "metadata": {
    "colab": {
     "base_uri": "https://localhost:8080/",
     "height": 85
    },
    "colab_type": "code",
    "id": "0MG6Xk0hqMma",
    "outputId": "d971c326-3526-460f-af5a-16bae8090b54"
   },
   "outputs": [
    {
     "name": "stdout",
     "output_type": "stream",
     "text": [
      "(60000, 28, 28)\n",
      "(60000,)\n",
      "(10000, 28, 28)\n",
      "(10000,)\n"
     ]
    }
   ],
   "source": [
    " # Load pre-shuffled MNIST data into train and test sets\n",
    "(X_train, y_train), (X_test, y_test) = mnist.load_data()\n",
    "\n",
    "# Shape check and plotting\n",
    "print(X_train.shape)\n",
    "print(y_train.shape)\n",
    "print(X_test.shape)\n",
    "print(y_test.shape)"
   ]
  },
  {
   "cell_type": "code",
   "execution_count": 5,
   "metadata": {
    "colab": {
     "base_uri": "https://localhost:8080/",
     "height": 68
    },
    "colab_type": "code",
    "id": "fDVYp48dqMmc",
    "outputId": "6ed31d97-a495-40e5-c1a4-4f55df3659c8"
   },
   "outputs": [
    {
     "name": "stdout",
     "output_type": "stream",
     "text": [
      "(60000,)\n",
      "[5 0 4 1 9 2 1 3 1 4]\n",
      "(60000, 10)\n"
     ]
    }
   ],
   "source": [
    "# ========================\n",
    "#  Data Munging/Reshaping\n",
    "# ========================\n",
    "# Declaring a depth of 1 for MNIST\n",
    "X_train = X_train.reshape(X_train.shape[0], 28, 28,1)\n",
    "X_test = X_test.reshape(X_test.shape[0], 28, 28,1)\n",
    "\n",
    "# Setting up calues as float32s that are bounded between 0 and 1\n",
    "X_train = X_train.astype('float32')\n",
    "X_test = X_test.astype('float32')\n",
    "X_train /= 255\n",
    "X_test /= 255\n",
    "\n",
    "# Processing class labels they are currently a numeric vector\n",
    "# ----> we need to transform them into categories\n",
    "print(y_train.shape)\n",
    "print(y_train[:10])\n",
    "\n",
    "# We do this through one-hot encoding\n",
    "# Convert 1-dimensional class arrays to 10-dimensional class matrices\n",
    "Y_train = np_utils.to_categorical(y_train, 10)\n",
    "Y_test = np_utils.to_categorical(y_test, 10)\n",
    "# Check the shape\n",
    "print(Y_train.shape)"
   ]
  },
  {
   "cell_type": "code",
   "execution_count": 0,
   "metadata": {
    "colab": {},
    "colab_type": "code",
    "id": "kl7GMlQZqMmg"
   },
   "outputs": [],
   "source": [
    "# =============================\n",
    "#  Setting up the Architecture\n",
    "# ============================\n",
    "model = Sequential()\n",
    "model.add(Conv2D(filters = 32,kernel_size=(3, 3), \n",
    "                 activation='relu', strides=(1, 1), \n",
    "                 padding='valid',\n",
    "                 input_shape=(28,28,1)))\n",
    "model.add(Conv2D(filters = 32,kernel_size=(3, 3), \n",
    "                 activation='relu', strides=(1, 1), \n",
    "                 padding='valid'))\n",
    "model.add(MaxPooling2D(pool_size=(2,2)))\n",
    "model.add(Dropout(0.25))\n",
    "model.add(Flatten())\n",
    "model.add(Dense(64, activation='relu'))\n",
    "model.add(Dropout(0.5))\n",
    "model.add(Dense(10, activation='softmax'))"
   ]
  },
  {
   "cell_type": "code",
   "execution_count": 0,
   "metadata": {
    "colab": {},
    "colab_type": "code",
    "id": "DBVlh1YrqMmi"
   },
   "outputs": [],
   "source": [
    "model.compile(loss='categorical_crossentropy',\n",
    "              optimizer='adam',\n",
    "              metrics=['accuracy'])"
   ]
  },
  {
   "cell_type": "code",
   "execution_count": 8,
   "metadata": {
    "colab": {
     "base_uri": "https://localhost:8080/",
     "height": 34
    },
    "colab_type": "code",
    "id": "BWlspIVDqMml",
    "outputId": "8cec086f-2e9b-45c4-8446-407e426c221f"
   },
   "outputs": [
    {
     "name": "stdout",
     "output_type": "stream",
     "text": [
      "10000/10000 [==============================] - 1s 97us/step\n"
     ]
    }
   ],
   "source": [
    "train_1=model.fit(X_train, Y_train,\n",
    "          epochs=5,\n",
    "          batch_size=128,\n",
    "         verbose = 0)\n",
    "# =====================\n",
    "#  Evaluating the model\n",
    "# =====================\n",
    "score = model.evaluate(X_test, Y_test, verbose=1)\n"
   ]
  },
  {
   "cell_type": "code",
   "execution_count": 9,
   "metadata": {
    "colab": {
     "base_uri": "https://localhost:8080/",
     "height": 34
    },
    "colab_type": "code",
    "id": "BXkPZtUWqMmq",
    "outputId": "b93f0ec3-cb2a-429a-de7f-3d05427e0cab"
   },
   "outputs": [
    {
     "name": "stdout",
     "output_type": "stream",
     "text": [
      "The accuracy of testing set is 0.9886\n"
     ]
    }
   ],
   "source": [
    "test_accuracy=score[1]\n",
    "print(\"The accuracy of testing set is\", test_accuracy)\n",
    "#train_accuracy=train_1[1]\n",
    "#print(\"The accuracy of training set is\", train_accuracy)"
   ]
  },
  {
   "cell_type": "code",
   "execution_count": 23,
   "metadata": {
    "colab": {
     "base_uri": "https://localhost:8080/",
     "height": 34
    },
    "colab_type": "code",
    "id": "Be3LXnXC2nqb",
    "outputId": "4586cbb7-4984-4078-a4b5-3dd48240412e"
   },
   "outputs": [
    {
     "data": {
      "text/plain": [
       "0.9884"
      ]
     },
     "execution_count": 23,
     "metadata": {
      "tags": []
     },
     "output_type": "execute_result"
    }
   ],
   "source": [
    "test2=score[-1]\n",
    "test2"
   ]
  },
  {
   "cell_type": "code",
   "execution_count": 0,
   "metadata": {
    "colab": {},
    "colab_type": "code",
    "id": "cIi_sJW8ylPd"
   },
   "outputs": [],
   "source": [
    "training_accuracy=train_1.history['acc']\n",
    "#validation_accuracy=train_1.history['val_acc']"
   ]
  },
  {
   "cell_type": "code",
   "execution_count": 19,
   "metadata": {
    "colab": {
     "base_uri": "https://localhost:8080/",
     "height": 417
    },
    "colab_type": "code",
    "id": "V3x_W8jNz2Nc",
    "outputId": "9dd03288-31ad-4cbd-cef8-3067ee8ae2a9"
   },
   "outputs": [
    {
     "data": {
      "text/plain": [
       "Text(0,0.5,'Accuracy')"
      ]
     },
     "execution_count": 19,
     "metadata": {
      "tags": []
     },
     "output_type": "execute_result"
    },
    {
     "data": {
      "image/png": "[encoded data removed]",
      "text/plain": [
       "<matplotlib.figure.Figure at 0x7f03a97ac8d0>"
      ]
     },
     "metadata": {
      "tags": []
     },
     "output_type": "display_data"
    }
   ],
   "source": [
    "fig = plt.figure()\n",
    "plt.plot(training_accuracy)\n",
    "fig.suptitle('The accuracy of training set')\n",
    "plt.xlabel('No of Epoch')\n",
    "plt.ylabel('Accuracy')"
   ]
  },
  {
   "cell_type": "code",
   "execution_count": 0,
   "metadata": {
    "colab": {},
    "colab_type": "code",
    "id": "DuboG8D3qMmx"
   },
   "outputs": [],
   "source": []
  },
  {
   "cell_type": "code",
   "execution_count": 0,
   "metadata": {
    "colab": {},
    "colab_type": "code",
    "id": "r3V_T3sEqMmz"
   },
   "outputs": [],
   "source": [
    "#2.2 Transfer Learning\n",
    "## Transfer learning with VGG backbone"
   ]
  },
  {
   "cell_type": "code",
   "execution_count": 0,
   "metadata": {
    "colab": {},
    "colab_type": "code",
    "id": "gfP17i58quPh"
   },
   "outputs": [],
   "source": [
    "import cv2\n",
    "from keras.applications import VGG16\n",
    "from keras.datasets import mnist\n",
    "\n",
    "from keras.models import Model\n",
    "from keras.layers import Dense, Flatten, Dropout\n",
    "import cv2 \n",
    "from keras import datasets\n",
    "from keras.optimizers import SGD  \n",
    "import numpy as np\n",
    "\n"
   ]
  },
  {
   "cell_type": "code",
   "execution_count": 0,
   "metadata": {
    "colab": {},
    "colab_type": "code",
    "id": "zpnsZ-KlqMm0"
   },
   "outputs": [],
   "source": [
    "For this problem, I use pre-trained backbone VGG to do hand written number recognization.It will only transfer the structure but\n",
    "not parameters"
   ]
  },
  {
   "cell_type": "code",
   "execution_count": 0,
   "metadata": {
    "colab": {},
    "colab_type": "code",
    "id": "_kBMxRsAue7X"
   },
   "outputs": [],
   "source": [
    "\n",
    "(X_train,y_train),(X_test,y_test) = mnist.load_data()"
   ]
  },
  {
   "cell_type": "code",
   "execution_count": 21,
   "metadata": {
    "colab": {
     "base_uri": "https://localhost:8080/",
     "height": 51
    },
    "colab_type": "code",
    "id": "fD9Rt7S-ukjC",
    "outputId": "69c2ea06-ebd1-4c06-aef7-911d62b1e532"
   },
   "outputs": [
    {
     "name": "stdout",
     "output_type": "stream",
     "text": [
      "(60000,)\n",
      "[5 0 4 1 9 2 1 3 1 4]\n"
     ]
    }
   ],
   "source": [
    "# ========================\n",
    "#  Data Munging/Reshaping\n",
    "# ========================\n",
    "# Declaring a depth of 1 for MNIST\n",
    "X_train = X_train.reshape(X_train.shape[0], 28, 28,1)\n",
    "X_test = X_test.reshape(X_test.shape[0], 28, 28,1)\n",
    "\n",
    "# Setting up calues as float32s that are bounded between 0 and 1\n",
    "X_train = X_train.astype('float32')\n",
    "X_test = X_test.astype('float32')\n",
    "X_train /= 255\n",
    "X_test /= 255\n",
    "\n",
    "# Processing class labels they are currently a numeric vector\n",
    "# ----> we need to transform them into categories\n",
    "print(y_train.shape)\n",
    "print(y_train[:10])\n",
    "\n",
    "# We do this through one-hot encoding\n",
    "# Convert 1-dimensional class arrays to 10-dimensional class matrices\n",
    "Y_train = np_utils.to_categorical(y_train, 10)\n",
    "Y_test = np_utils.to_categorical(y_test, 10)"
   ]
  },
  {
   "cell_type": "code",
   "execution_count": 0,
   "metadata": {
    "colab": {},
    "colab_type": "code",
    "id": "wjxk5Z99qMm2"
   },
   "outputs": [],
   "source": [
    "X_train = np.asarray([cv2.resize(i, (32,32)) for i in X_train])\n",
    "X_test = np.asarray([cv2.resize(i, (32,32)) for i in X_test])\n",
    "\n",
    "X_train = X_train.reshape(X_train.shape[0], 32, 32,1)\n",
    "X_test = X_test.reshape(X_test.shape[0], 32, 32, 1)\n",
    "\n",
    "X_train = np.asarray([np.squeeze(np.stack((i, )*3, axis = -1)) for i in X_train])\n",
    "X_test = np.asarray([np.squeeze(np.stack((i, )*3, axis = -1)) for i in X_test])"
   ]
  },
  {
   "cell_type": "code",
   "execution_count": 0,
   "metadata": {
    "colab": {},
    "colab_type": "code",
    "id": "w4YHVV34qMm4"
   },
   "outputs": [],
   "source": [
    "conv_base = VGG16(weights=\"imagenet\",include_top=False,input_shape=(32,32,3))"
   ]
  },
  {
   "cell_type": "code",
   "execution_count": 28,
   "metadata": {
    "colab": {
     "base_uri": "https://localhost:8080/",
     "height": 357
    },
    "colab_type": "code",
    "id": "-Nl9M5aEqMm5",
    "outputId": "5071692b-3e89-40c5-9291-7093819a9731"
   },
   "outputs": [
    {
     "name": "stdout",
     "output_type": "stream",
     "text": [
      "Epoch 1/10\n",
      "60000/60000 [==============================] - 21s 342us/step - loss: 0.4451 - acc: 0.8747\n",
      "Epoch 2/10\n",
      "60000/60000 [==============================] - 19s 321us/step - loss: 0.1727 - acc: 0.9473\n",
      "Epoch 3/10\n",
      "60000/60000 [==============================] - 19s 322us/step - loss: 0.1348 - acc: 0.9589\n",
      "Epoch 4/10\n",
      "60000/60000 [==============================] - 19s 322us/step - loss: 0.1170 - acc: 0.9638\n",
      "Epoch 5/10\n",
      "60000/60000 [==============================] - 19s 323us/step - loss: 0.1067 - acc: 0.9670\n",
      "Epoch 6/10\n",
      "60000/60000 [==============================] - 19s 323us/step - loss: 0.0956 - acc: 0.9694\n",
      "Epoch 7/10\n",
      "60000/60000 [==============================] - 19s 323us/step - loss: 0.0900 - acc: 0.9715\n",
      "Epoch 8/10\n",
      "60000/60000 [==============================] - 20s 327us/step - loss: 0.0858 - acc: 0.9728\n",
      "Epoch 9/10\n",
      "60000/60000 [==============================] - 20s 326us/step - loss: 0.0816 - acc: 0.9737\n",
      "Epoch 10/10\n",
      "60000/60000 [==============================] - 19s 320us/step - loss: 0.0766 - acc: 0.9761\n"
     ]
    }
   ],
   "source": [
    "# fit the model\n",
    "model = Sequential()\n",
    "model.add(conv_base)\n",
    "# add our Feature Extractor\n",
    "model.add(Flatten())\n",
    "model.add(Dense(256, activation=\"relu\"))\n",
    "model.add(Dense(10, activation=\"softmax\"))\n",
    "\n",
    "# freeze the base model weights\n",
    "conv_base.trainable = False\n",
    "# compile\n",
    "model.compile(loss=\"categorical_crossentropy\", \n",
    "              optimizer='adam',\n",
    "              metrics=[\"acc\"])\n",
    "# fit\n",
    "train_2 = model.fit(X_train, Y_train,\n",
    "          epochs=10,\n",
    "          batch_size=128,\n",
    "         verbose = 1)"
   ]
  },
  {
   "cell_type": "code",
   "execution_count": 29,
   "metadata": {
    "colab": {
     "base_uri": "https://localhost:8080/",
     "height": 51
    },
    "colab_type": "code",
    "id": "whgY-nvssJe7",
    "outputId": "6ec2d221-5ffb-457a-9612-a4b182c4b187"
   },
   "outputs": [
    {
     "name": "stdout",
     "output_type": "stream",
     "text": [
      "10000/10000 [==============================] - 6s 601us/step\n",
      "The accuracy of testing set is 0.9739\n"
     ]
    }
   ],
   "source": [
    "score1 = model.evaluate(X_test, Y_test, verbose=1)\n",
    "test_accuracy1=score1[1]\n",
    "print(\"The accuracy of testing set is\", test_accuracy1)"
   ]
  },
  {
   "cell_type": "code",
   "execution_count": 30,
   "metadata": {
    "colab": {
     "base_uri": "https://localhost:8080/",
     "height": 417
    },
    "colab_type": "code",
    "id": "A1G2eRx54Lvx",
    "outputId": "ad1dc7ab-0d07-4134-ad92-cb279e79823d"
   },
   "outputs": [
    {
     "data": {
      "text/plain": [
       "Text(0,0.5,'Accuracy')"
      ]
     },
     "execution_count": 30,
     "metadata": {
      "tags": []
     },
     "output_type": "execute_result"
    },
    {
     "data": {
      "image/png": "[encoded data removed]",
      "text/plain": [
       "<matplotlib.figure.Figure at 0x7f03a235de48>"
      ]
     },
     "metadata": {
      "tags": []
     },
     "output_type": "display_data"
    }
   ],
   "source": [
    "training_accuracy_2=train_2.history['acc']\n",
    "fig = plt.figure()\n",
    "plt.plot(training_accuracy_2)\n",
    "fig.suptitle('The accuracy of training set')\n",
    "plt.xlabel('No of Epoch')\n",
    "plt.ylabel('Accuracy')"
   ]
  },
  {
   "cell_type": "code",
   "execution_count": 0,
   "metadata": {
    "colab": {},
    "colab_type": "code",
    "id": "fDG2vkMwtSGv"
   },
   "outputs": [],
   "source": [
    "Finally I can say that by using VGG16 model, and after 10 epochs with 128 batches, the test accuracy of the model \n",
    "achieved at 97%. The accuracy has not improved a lot after the 7th epoch. When comparing to the test accuracy of \n",
    "question 2.1, it lowered a little bit and it may be caused by overfitting."
   ]
  },
  {
   "cell_type": "code",
   "execution_count": 1,
   "metadata": {
    "colab": {},
    "colab_type": "code",
    "id": "k10oH0YLqMnA"
   },
   "outputs": [
    {
     "name": "stderr",
     "output_type": "stream",
     "text": [
      "Using TensorFlow backend.\n"
     ]
    },
    {
     "name": "stdout",
     "output_type": "stream",
     "text": [
      "66057\n",
      "1296\n"
     ]
    }
   ],
   "source": [
    "##3.Text Classification\n",
    "##3.1 RNN\n",
    "\n",
    "import pandas as pd\n",
    "import numpy as np\n",
    "\n",
    "from sklearn.model_selection import train_test_split\n",
    "from keras.preprocessing import sequence\n",
    "from keras.preprocessing.text import Tokenizer\n",
    "from keras.layers import SimpleRNN, Embedding\n",
    "\n",
    "#loading data and checking length\n",
    "benign=pd.read_csv('benign-urls.txt',header=None)\n",
    "malicious=pd.read_csv('malicious-urls.txt',header=None)\n",
    "print(len(benign))\n",
    "print(len(malicious))"
   ]
  },
  {
   "cell_type": "code",
   "execution_count": 2,
   "metadata": {},
   "outputs": [
    {
     "data": {
      "text/plain": [
       "pandas.core.frame.DataFrame"
      ]
     },
     "execution_count": 2,
     "metadata": {},
     "output_type": "execute_result"
    }
   ],
   "source": [
    "type(benign)"
   ]
  },
  {
   "cell_type": "code",
   "execution_count": 2,
   "metadata": {},
   "outputs": [],
   "source": [
    "##label text\n",
    "benign['label']=0\n",
    "malicious['label']=1"
   ]
  },
  {
   "cell_type": "code",
   "execution_count": 3,
   "metadata": {},
   "outputs": [
    {
     "data": {
      "text/html": [
       "<div>\n",
       "<style scoped>\n",
       "    .dataframe tbody tr th:only-of-type {\n",
       "        vertical-align: middle;\n",
       "    }\n",
       "\n",
       "    .dataframe tbody tr th {\n",
       "        vertical-align: top;\n",
       "    }\n",
       "\n",
       "    .dataframe thead th {\n",
       "        text-align: right;\n",
       "    }\n",
       "</style>\n",
       "<table border=\"1\" class=\"dataframe\">\n",
       "  <thead>\n",
       "    <tr style=\"text-align: right;\">\n",
       "      <th></th>\n",
       "      <th>url</th>\n",
       "      <th>label</th>\n",
       "    </tr>\n",
       "  </thead>\n",
       "  <tbody>\n",
       "    <tr>\n",
       "      <th>0</th>\n",
       "      <td># GOOGLE</td>\n",
       "      <td>0</td>\n",
       "    </tr>\n",
       "    <tr>\n",
       "      <th>1</th>\n",
       "      <td>.0.blogger.gmodules.com</td>\n",
       "      <td>0</td>\n",
       "    </tr>\n",
       "    <tr>\n",
       "      <th>2</th>\n",
       "      <td>.0.client-channel.google.com</td>\n",
       "      <td>0</td>\n",
       "    </tr>\n",
       "    <tr>\n",
       "      <th>3</th>\n",
       "      <td>.0.docs.google.com</td>\n",
       "      <td>0</td>\n",
       "    </tr>\n",
       "    <tr>\n",
       "      <th>4</th>\n",
       "      <td>.0.drive.google.com</td>\n",
       "      <td>0</td>\n",
       "    </tr>\n",
       "  </tbody>\n",
       "</table>\n",
       "</div>"
      ],
      "text/plain": [
       "                            url  label\n",
       "0                      # GOOGLE      0\n",
       "1       .0.blogger.gmodules.com      0\n",
       "2  .0.client-channel.google.com      0\n",
       "3            .0.docs.google.com      0\n",
       "4           .0.drive.google.com      0"
      ]
     },
     "execution_count": 3,
     "metadata": {},
     "output_type": "execute_result"
    }
   ],
   "source": [
    "#concat both sets and make labels\n",
    "url=pd.concat([benign,malicious])\n",
    "url.columns=['url','label']\n",
    "url.rename_axis(None)\n",
    "url.head()"
   ]
  },
  {
   "cell_type": "code",
   "execution_count": 4,
   "metadata": {},
   "outputs": [],
   "source": [
    "#split into training and test data\n",
    "X_train,X_test,Y_train,Y_test = train_test_split(url['url'],url['label'],test_size=0.15)"
   ]
  },
  {
   "cell_type": "code",
   "execution_count": 5,
   "metadata": {},
   "outputs": [
    {
     "data": {
      "text/plain": [
       "(57250,)"
      ]
     },
     "execution_count": 5,
     "metadata": {},
     "output_type": "execute_result"
    }
   ],
   "source": [
    "X_train.shape\n"
   ]
  },
  {
   "cell_type": "code",
   "execution_count": 6,
   "metadata": {},
   "outputs": [
    {
     "data": {
      "text/plain": [
       "(10103,)"
      ]
     },
     "execution_count": 6,
     "metadata": {},
     "output_type": "execute_result"
    }
   ],
   "source": [
    "X_test.shape"
   ]
  },
  {
   "cell_type": "code",
   "execution_count": 7,
   "metadata": {},
   "outputs": [],
   "source": [
    "from keras.preprocessing.text import Tokenizer\n",
    "tokenizer=Tokenizer(char_level=True)\n",
    "tokenizer.fit_on_texts(X_train)"
   ]
  },
  {
   "cell_type": "code",
   "execution_count": 11,
   "metadata": {},
   "outputs": [],
   "source": [
    "sequences=tokenizer.texts_to_sequences(X_train)\n",
    "X_train=sequence.pad_sequences(sequences,maxlen=86)"
   ]
  },
  {
   "cell_type": "code",
   "execution_count": 13,
   "metadata": {},
   "outputs": [],
   "source": [
    "sequences_2=tokenizer.texts_to_sequences(X_test)\n",
    "X_test=sequence.pad_sequences(sequences_2,maxlen=86)"
   ]
  },
  {
   "cell_type": "code",
   "execution_count": 14,
   "metadata": {},
   "outputs": [
    {
     "name": "stdout",
     "output_type": "stream",
     "text": [
      "(57250, 86)\n",
      "(57250,)\n",
      "(10103, 86)\n",
      "(10103,)\n"
     ]
    }
   ],
   "source": [
    "print(X_train.shape)\n",
    "print(Y_train.shape)\n",
    "print(X_test.shape)\n",
    "print(Y_test.shape)"
   ]
  },
  {
   "cell_type": "code",
   "execution_count": 20,
   "metadata": {},
   "outputs": [
    {
     "name": "stdout",
     "output_type": "stream",
     "text": [
      "Train on 57250 samples, validate on 10103 samples\n",
      "Epoch 1/5\n",
      "57250/57250 [==============================] - 115s 2ms/step - loss: 0.0672 - acc: 0.9792 - val_loss: 0.0795 - val_acc: 0.9644\n",
      "Epoch 2/5\n",
      "57250/57250 [==============================] - 112s 2ms/step - loss: 0.0278 - acc: 0.9866 - val_loss: 0.0267 - val_acc: 0.9882\n",
      "Epoch 3/5\n",
      "57250/57250 [==============================] - 114s 2ms/step - loss: 0.0243 - acc: 0.9881 - val_loss: 0.0247 - val_acc: 0.9889\n",
      "Epoch 4/5\n",
      "57250/57250 [==============================] - 109s 2ms/step - loss: 0.0234 - acc: 0.9892 - val_loss: 0.0256 - val_acc: 0.9892\n",
      "Epoch 5/5\n",
      "57250/57250 [==============================] - 102s 2ms/step - loss: 0.0224 - acc: 0.9891 - val_loss: 0.0254 - val_acc: 0.9901\n"
     ]
    }
   ],
   "source": [
    "from keras.models import Sequential\n",
    "from keras.layers import Dense, Dropout, Activation, Flatten\n",
    "from keras.layers import Conv2D, MaxPooling2D\n",
    "from keras.utils import np_utils\n",
    "from keras.layers.recurrent import LSTM\n",
    "\n",
    "\n",
    "model = Sequential()\n",
    "# embedding layer\n",
    "model.add(Embedding(86, 64))\n",
    "# LSTM\n",
    "model.add(LSTM(128))\n",
    "model.add(Dense(1, activation ='sigmoid'))\n",
    "\n",
    "model.compile(optimizer = 'rmsprop',\n",
    "             loss = 'binary_crossentropy',\n",
    "             metrics=['accuracy'])\n",
    "\n",
    "train_1 = model.fit(X_train, Y_train, \n",
    "                    validation_data=(X_test,Y_test),\n",
    "                    epochs = 5, batch_size = 128, \n",
    "                    verbose=1)"
   ]
  },
  {
   "cell_type": "code",
   "execution_count": 23,
   "metadata": {},
   "outputs": [
    {
     "data": {
      "text/plain": [
       "<Figure size 432x288 with 0 Axes>"
      ]
     },
     "execution_count": 23,
     "metadata": {},
     "output_type": "execute_result"
    },
    {
     "data": {
      "image/png": "[encoded data removed]",
      "text/plain": [
       "<Figure size 432x288 with 1 Axes>"
      ]
     },
     "metadata": {
      "needs_background": "light"
     },
     "output_type": "display_data"
    },
    {
     "data": {
      "text/plain": [
       "<Figure size 432x288 with 0 Axes>"
      ]
     },
     "metadata": {},
     "output_type": "display_data"
    }
   ],
   "source": [
    "from matplotlib import pyplot as plt\n",
    "training_accuracy_1=train_1.history['acc']\n",
    "testing_accuracy_1 = train_1.history['val_acc']\n",
    "\n",
    "plt.plot(training_accuracy_1,'r',label='training accuracy')\n",
    "plt.plot(testing_accuracy_1, 'b', label = 'testing Accuracy')\n",
    "fig.suptitle('The accuracy of training set and testing set')\n",
    "plt.xlabel('No of Epoch')\n",
    "plt.ylabel('Accuracy')\n",
    "plt.legend()\n",
    "plt.figure()"
   ]
  },
  {
   "cell_type": "code",
   "execution_count": 28,
   "metadata": {},
   "outputs": [],
   "source": [
    "from keras.layers import Dense, Dropout, Activation, Flatten, LSTM, Embedding\n",
    "from keras.layers import Conv1D, Conv2D, MaxPooling1D, MaxPooling2D, UpSampling2D\n",
    "from keras.utils import np_utils"
   ]
  },
  {
   "cell_type": "code",
   "execution_count": 32,
   "metadata": {
    "colab": {},
    "colab_type": "code",
    "id": "qQs1vgYEqMnB"
   },
   "outputs": [
    {
     "name": "stdout",
     "output_type": "stream",
     "text": [
      "Train on 57250 samples, validate on 10103 samples\n",
      "Epoch 1/5\n",
      "57250/57250 [==============================] - 11s 187us/step - loss: 0.0740 - acc: 0.9807 - val_loss: 0.0385 - val_acc: 0.9837\n",
      "Epoch 2/5\n",
      "57250/57250 [==============================] - 10s 172us/step - loss: 0.0332 - acc: 0.9852 - val_loss: 0.0300 - val_acc: 0.9842\n",
      "Epoch 3/5\n",
      "57250/57250 [==============================] - 10s 173us/step - loss: 0.0253 - acc: 0.9875 - val_loss: 0.0238 - val_acc: 0.9898\n",
      "Epoch 4/5\n",
      "57250/57250 [==============================] - 10s 171us/step - loss: 0.0227 - acc: 0.9890 - val_loss: 0.0226 - val_acc: 0.9901\n",
      "Epoch 5/5\n",
      "57250/57250 [==============================] - 10s 168us/step - loss: 0.0210 - acc: 0.9900 - val_loss: 0.0231 - val_acc: 0.9905\n"
     ]
    }
   ],
   "source": [
    "##3.2 CNN\n",
    "model1 = Sequential()\n",
    "model1.add(Embedding(86, input_length = 86, output_dim = 32))\n",
    "\n",
    "model1.add(Conv1D(32, 3,\n",
    "                 activation='relu'))\n",
    "model1.add(Dropout(0.5))\n",
    "\n",
    "model1.add(Conv1D(64, 5, \n",
    "                 activation='relu'))\n",
    "\n",
    "model1.add(Flatten())    \n",
    "model1.add(Dense(1, activation ='sigmoid'))\n",
    "\n",
    "model1.compile(optimizer = 'adam',\n",
    "             loss = 'binary_crossentropy',\n",
    "             metrics=['acc'])\n",
    "\n",
    "train_2 = model1.fit(X_train, Y_train, \n",
    "                      validation_data=(X_test,Y_test),\n",
    "                    epochs = 5, batch_size = 128, \n",
    "                    verbose=1)"
   ]
  },
  {
   "cell_type": "code",
   "execution_count": 33,
   "metadata": {},
   "outputs": [
    {
     "data": {
      "text/plain": [
       "<Figure size 432x288 with 0 Axes>"
      ]
     },
     "execution_count": 33,
     "metadata": {},
     "output_type": "execute_result"
    },
    {
     "data": {
      "image/png": "[encoded data removed]",
      "text/plain": [
       "<Figure size 432x288 with 1 Axes>"
      ]
     },
     "metadata": {
      "needs_background": "light"
     },
     "output_type": "display_data"
    },
    {
     "data": {
      "text/plain": [
       "<Figure size 432x288 with 0 Axes>"
      ]
     },
     "metadata": {},
     "output_type": "display_data"
    }
   ],
   "source": [
    "from matplotlib import pyplot as plt\n",
    "training_accuracy_2=train_2.history['acc']\n",
    "testing_accuracy_2 = train_2.history['val_acc']\n",
    "\n",
    "\n",
    "plt.plot(training_accuracy_2,'r',label='training accuracy')\n",
    "plt.plot(testing_accuracy_2, 'b', label = 'testing Accuracy')\n",
    "fig.suptitle('The accuracy of training set and test set')\n",
    "plt.xlabel('No of Epoch')\n",
    "plt.ylabel('Accuracy')\n",
    "plt.legend()\n",
    "plt.figure()"
   ]
  },
  {
   "cell_type": "code",
   "execution_count": 43,
   "metadata": {},
   "outputs": [
    {
     "data": {
      "image/png": "[encoded data removed]",
      "text/plain": [
       "<Figure size 432x288 with 1 Axes>"
      ]
     },
     "metadata": {
      "needs_background": "light"
     },
     "output_type": "display_data"
    }
   ],
   "source": [
    "#3.3 comparing two methods\n",
    "from sklearn.metrics import roc_curve\n",
    "pred_lstm=model.predict(X_test)\n",
    "pred_cnn=model1.predict(X_test)\n",
    "\n",
    "fpr,tpr,thresholds=roc_curve(Y_test,pred_lstm)\n",
    "fpr2,tpr2,thresholds2=roc_curve(Y_test,pred_cnn)\n",
    "\n",
    "plt.figure(figsize=(6,4))\n",
    "plt.plot(fpr, tpr, label='LSTM')\n",
    "plt.plot(fpr2, tpr2, label='CNN')\n",
    "plt.xlabel('False positive rate')\n",
    "plt.ylabel('True positive rate')\n",
    "plt.ylim(.85, 1)\n",
    "plt.title('ROC curve')\n",
    "plt.legend()\n",
    "plt.show()"
   ]
  },
  {
   "cell_type": "code",
   "execution_count": null,
   "metadata": {},
   "outputs": [],
   "source": []
  }
 ],
 "metadata": {
  "accelerator": "GPU",
  "colab": {
   "collapsed_sections": [],
   "name": "590-Hw2.ipynb",
   "provenance": [],
   "version": "0.3.2"
  },
  "kernelspec": {
   "display_name": "Python 3",
   "language": "python",
   "name": "python3"
  },
  "language_info": {
   "codemirror_mode": {
    "name": "ipython",
    "version": 3
   },
   "file_extension": ".py",
   "mimetype": "text/x-python",
   "name": "python",
   "nbconvert_exporter": "python",
   "pygments_lexer": "ipython3",
   "version": "3.6.7"
  }
 },
 "nbformat": 4,
 "nbformat_minor": 1
}
