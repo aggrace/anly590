{
  "nbformat": 4,
  "nbformat_minor": 0,
  "metadata": {
    "colab": {
      "name": "590_Hw2.ipynb",
      "version": "0.3.2",
      "provenance": [],
      "collapsed_sections": []
    },
    "kernelspec": {
      "display_name": "Python 3",
      "language": "python",
      "name": "python3"
    },
    "accelerator": "GPU"
  },
  "cells": [
    {
      "metadata": {
        "colab_type": "code",
        "id": "xnagLFaZqMl4",
        "colab": {}
      },
      "cell_type": "code",
      "source": [
        "##Question1 Autoencoder"
      ],
      "execution_count": 0,
      "outputs": []
    },
    {
      "metadata": {
        "colab_type": "code",
        "id": "xvBjiLgFqMl9",
        "colab": {}
      },
      "cell_type": "code",
      "source": [
        "import tensorflow as tf\n",
        "from keras.layers import Input, Dense, Conv2D, MaxPooling2D, UpSampling2D\n",
        "from keras.models import Model\n",
        "from keras import backend as K"
      ],
      "execution_count": 0,
      "outputs": []
    },
    {
      "metadata": {
        "colab_type": "code",
        "id": "Nqq_7JoeqMl_",
        "outputId": "a0275be0-59d1-46f7-ee46-2eae0cf0078d",
        "scrolled": true,
        "colab": {}
      },
      "cell_type": "code",
      "source": [
        "##import fmnist data\n",
        "(x_train, y_train), (x_test, y_test) = tf.keras.datasets.fashion_mnist.load_data()"
      ],
      "execution_count": 0,
      "outputs": [
        {
          "output_type": "stream",
          "text": [
            "Downloading data from https://storage.googleapis.com/tensorflow/tf-keras-datasets/train-labels-idx1-ubyte.gz\n",
            "32768/29515 [=================================] - 0s 1us/step\n",
            "Downloading data from https://storage.googleapis.com/tensorflow/tf-keras-datasets/train-images-idx3-ubyte.gz\n",
            "26427392/26421880 [==============================] - 1s 0us/step\n",
            "Downloading data from https://storage.googleapis.com/tensorflow/tf-keras-datasets/t10k-labels-idx1-ubyte.gz\n",
            "8192/5148 [===============================================] - 0s 0us/step\n",
            "Downloading data from https://storage.googleapis.com/tensorflow/tf-keras-datasets/t10k-images-idx3-ubyte.gz\n",
            "4423680/4422102 [==============================] - 0s 0us/step\n"
          ],
          "name": "stdout"
        }
      ]
    },
    {
      "metadata": {
        "colab_type": "code",
        "id": "EY7phMoaqMmE",
        "colab": {}
      },
      "cell_type": "code",
      "source": [
        "##we will just normalize pixel values between 0 and 1\n",
        "x_train = x_train.astype('float32') / 255.\n",
        "x_test = x_test.astype('float32') / 255."
      ],
      "execution_count": 0,
      "outputs": []
    },
    {
      "metadata": {
        "colab_type": "code",
        "id": "NNMj4vkGqMmH",
        "colab": {}
      },
      "cell_type": "code",
      "source": [
        "import numpy as np\n",
        "x_train = np.reshape(x_train, (len(x_train), 28, 28, 1))\n",
        "x_test = np.reshape(x_test, (len(x_test), 28, 28, 1)) \n",
        "print(x_train.shape)\n",
        "print(x_test.shape)"
      ],
      "execution_count": 0,
      "outputs": []
    },
    {
      "metadata": {
        "colab_type": "code",
        "id": "oREPSVauqMmJ",
        "colab": {}
      },
      "cell_type": "code",
      "source": [
        "input_img = Input(shape=(28, 28, 1))  # adapt this if using `channels_first` image data format\n",
        "\n",
        "x = Conv2D(16, (3, 3), activation='relu', padding='same')(input_img)\n",
        "x = MaxPooling2D((2, 2), padding='same')(x)\n",
        "x = Conv2D(8, (3, 3), activation='relu', padding='same')(x)\n",
        "x = MaxPooling2D((2, 2), padding='same')(x)\n",
        "x = Conv2D(8, (3, 3), activation='relu', padding='same')(x)\n",
        "encoded = MaxPooling2D((2, 2), padding='same')(x)\n",
        "\n",
        "# at this point the representation is (4, 4, 8) i.e. 128-dimensional\n",
        "\n",
        "x = Conv2D(8, (3, 3), activation='relu', padding='same')(encoded)\n",
        "x = UpSampling2D((2, 2))(x)\n",
        "x = Conv2D(8, (3, 3), activation='relu', padding='same')(x)\n",
        "x = UpSampling2D((2, 2))(x)\n",
        "x = Conv2D(16, (3, 3), activation='relu')(x)\n",
        "x = UpSampling2D((2, 2))(x)\n",
        "decoded = Conv2D(1, (3, 3), activation='sigmoid', padding='same')(x)\n",
        "\n",
        "autoencoder = Model(input_img, decoded)\n",
        "autoencoder.compile(optimizer='adadelta', loss='binary_crossentropy')"
      ],
      "execution_count": 0,
      "outputs": []
    },
    {
      "metadata": {
        "colab_type": "code",
        "id": "p_A-cdu3qMmL",
        "outputId": "07269910-e23b-4b3b-95f5-84008c40e830",
        "colab": {}
      },
      "cell_type": "code",
      "source": [
        "autoencoder.fit(x_train, x_train,\n",
        "                epochs=50,\n",
        "                batch_size=128,\n",
        "                shuffle=True,\n",
        "                validation_data=(x_test, x_test))"
      ],
      "execution_count": 0,
      "outputs": [
        {
          "output_type": "stream",
          "text": [
            "Train on 60000 samples, validate on 10000 samples\n",
            "Epoch 1/50\n",
            "60000/60000 [==============================] - 48s 799us/step - loss: 0.3700 - val_loss: 0.3330\n",
            "Epoch 2/50\n",
            "60000/60000 [==============================] - 45s 754us/step - loss: 0.3248 - val_loss: 0.3168\n",
            "Epoch 3/50\n",
            "60000/60000 [==============================] - 45s 751us/step - loss: 0.3141 - val_loss: 0.3084\n",
            "Epoch 4/50\n",
            "60000/60000 [==============================] - 48s 802us/step - loss: 0.3079 - val_loss: 0.3066\n",
            "Epoch 5/50\n",
            "60000/60000 [==============================] - 46s 759us/step - loss: 0.3042 - val_loss: 0.3063\n",
            "Epoch 6/50\n",
            "60000/60000 [==============================] - 47s 787us/step - loss: 0.3016 - val_loss: 0.3018\n",
            "Epoch 7/50\n",
            "60000/60000 [==============================] - 50s 841us/step - loss: 0.2997 - val_loss: 0.3017\n",
            "Epoch 8/50\n",
            "60000/60000 [==============================] - 49s 813us/step - loss: 0.2984 - val_loss: 0.3048\n",
            "Epoch 9/50\n",
            "60000/60000 [==============================] - 52s 873us/step - loss: 0.2971 - val_loss: 0.2982\n",
            "Epoch 10/50\n",
            "60000/60000 [==============================] - 46s 770us/step - loss: 0.2956 - val_loss: 0.3010\n",
            "Epoch 11/50\n",
            "60000/60000 [==============================] - 47s 782us/step - loss: 0.2947 - val_loss: 0.2960\n",
            "Epoch 12/50\n",
            "60000/60000 [==============================] - 48s 793us/step - loss: 0.2939 - val_loss: 0.2953\n",
            "Epoch 13/50\n",
            "60000/60000 [==============================] - 49s 822us/step - loss: 0.2931 - val_loss: 0.2958\n",
            "Epoch 14/50\n",
            "60000/60000 [==============================] - 48s 796us/step - loss: 0.2926 - val_loss: 0.2941\n",
            "Epoch 15/50\n",
            "60000/60000 [==============================] - 46s 759us/step - loss: 0.2918 - val_loss: 0.2960\n",
            "Epoch 16/50\n",
            "60000/60000 [==============================] - 46s 770us/step - loss: 0.2914 - val_loss: 0.2947\n",
            "Epoch 17/50\n",
            "60000/60000 [==============================] - 46s 765us/step - loss: 0.2910 - val_loss: 0.2898\n",
            "Epoch 18/50\n",
            "60000/60000 [==============================] - 46s 766us/step - loss: 0.2907 - val_loss: 0.2924\n",
            "Epoch 19/50\n",
            "60000/60000 [==============================] - 48s 804us/step - loss: 0.2901 - val_loss: 0.2915\n",
            "Epoch 20/50\n",
            "60000/60000 [==============================] - 46s 761us/step - loss: 0.2902 - val_loss: 0.2924\n",
            "Epoch 21/50\n",
            "60000/60000 [==============================] - 46s 759us/step - loss: 0.2897 - val_loss: 0.2900\n",
            "Epoch 22/50\n",
            "60000/60000 [==============================] - 47s 776us/step - loss: 0.2895 - val_loss: 0.2915\n",
            "Epoch 23/50\n",
            "60000/60000 [==============================] - 45s 757us/step - loss: 0.2892 - val_loss: 0.2916\n",
            "Epoch 24/50\n",
            "60000/60000 [==============================] - 46s 763us/step - loss: 0.2885 - val_loss: 0.2920\n",
            "Epoch 25/50\n",
            "60000/60000 [==============================] - 5306s 88ms/step - loss: 0.2885 - val_loss: 0.2906\n",
            "Epoch 26/50\n",
            "60000/60000 [==============================] - 54s 905us/step - loss: 0.2882 - val_loss: 0.2911\n",
            "Epoch 27/50\n",
            "60000/60000 [==============================] - 55s 915us/step - loss: 0.2877 - val_loss: 0.2923\n",
            "Epoch 28/50\n",
            "60000/60000 [==============================] - 62s 1ms/step - loss: 0.2873 - val_loss: 0.2924\n",
            "Epoch 29/50\n",
            "60000/60000 [==============================] - 50s 841us/step - loss: 0.2875 - val_loss: 0.2914\n",
            "Epoch 30/50\n",
            "60000/60000 [==============================] - 50s 837us/step - loss: 0.2873 - val_loss: 0.2883\n",
            "Epoch 31/50\n",
            "60000/60000 [==============================] - 47s 779us/step - loss: 0.2870 - val_loss: 0.2873\n",
            "Epoch 32/50\n",
            "60000/60000 [==============================] - 51s 849us/step - loss: 0.2865 - val_loss: 0.2882\n",
            "Epoch 33/50\n",
            "60000/60000 [==============================] - 54s 893us/step - loss: 0.2864 - val_loss: 0.2881\n",
            "Epoch 34/50\n",
            "60000/60000 [==============================] - 53s 883us/step - loss: 0.2862 - val_loss: 0.2877\n",
            "Epoch 35/50\n",
            "60000/60000 [==============================] - 52s 863us/step - loss: 0.2864 - val_loss: 0.2905\n",
            "Epoch 36/50\n",
            "60000/60000 [==============================] - 54s 892us/step - loss: 0.2865 - val_loss: 0.2913\n",
            "Epoch 37/50\n",
            "60000/60000 [==============================] - 52s 860us/step - loss: 0.2861 - val_loss: 0.2896\n",
            "Epoch 38/50\n",
            "60000/60000 [==============================] - 52s 863us/step - loss: 0.2856 - val_loss: 0.2877\n",
            "Epoch 39/50\n",
            "60000/60000 [==============================] - 49s 822us/step - loss: 0.2859 - val_loss: 0.2863\n",
            "Epoch 40/50\n",
            "60000/60000 [==============================] - 50s 833us/step - loss: 0.2859 - val_loss: 0.2895\n",
            "Epoch 41/50\n",
            "60000/60000 [==============================] - 54s 897us/step - loss: 0.2856 - val_loss: 0.2858\n",
            "Epoch 42/50\n",
            "60000/60000 [==============================] - 47s 778us/step - loss: 0.2859 - val_loss: 0.2911\n",
            "Epoch 43/50\n",
            "60000/60000 [==============================] - 50s 841us/step - loss: 0.2855 - val_loss: 0.2897\n",
            "Epoch 44/50\n",
            "60000/60000 [==============================] - 49s 818us/step - loss: 0.2858 - val_loss: 0.2930\n",
            "Epoch 45/50\n",
            "60000/60000 [==============================] - 53s 878us/step - loss: 0.2854 - val_loss: 0.2873\n",
            "Epoch 46/50\n",
            "60000/60000 [==============================] - 50s 838us/step - loss: 0.2850 - val_loss: 0.2874\n",
            "Epoch 47/50\n",
            "60000/60000 [==============================] - 53s 892us/step - loss: 0.2853 - val_loss: 0.2852\n",
            "Epoch 48/50\n",
            "60000/60000 [==============================] - 55s 915us/step - loss: 0.2852 - val_loss: 0.2872\n",
            "Epoch 49/50\n",
            "60000/60000 [==============================] - 49s 819us/step - loss: 0.2851 - val_loss: 0.2867\n",
            "Epoch 50/50\n",
            "60000/60000 [==============================] - 49s 812us/step - loss: 0.2852 - val_loss: 0.2865\n"
          ],
          "name": "stdout"
        },
        {
          "output_type": "execute_result",
          "data": {
            "text/plain": [
              "<keras.callbacks.History at 0x11efd1898>"
            ]
          },
          "metadata": {
            "tags": []
          },
          "execution_count": 13
        }
      ]
    },
    {
      "metadata": {
        "colab_type": "code",
        "id": "BbMYQFE1qMmO",
        "outputId": "e28a3f5a-1a02-4b16-e3f4-761df32ce92b",
        "colab": {}
      },
      "cell_type": "code",
      "source": [
        "import matplotlib.pyplot as plt\n",
        "\n",
        "n = 10\n",
        "plt.figure(figsize=(10,4))\n",
        "\n",
        "for i in range(n):\n",
        "    ax = plt.subplot(2, n, i+1)\n",
        "    plt.imshow(x_test[i].reshape(28, 28))\n",
        "    plt.gray()\n",
        "    ax.get_xaxis().set_visible(False)\n",
        "    ax.get_yaxis().set_visible(False)\n",
        "\n",
        "    # display reconstruction\n",
        "    ax = plt.subplot(2, n, i + 1 + n)\n",
        "    plt.imshow(decoded_imgs[i].reshape(28, 28))\n",
        "    plt.gray()\n",
        "    ax.get_xaxis().set_visible(False)\n",
        "    ax.get_yaxis().set_visible(False)\n",
        "plt.show()"
      ],
      "execution_count": 0,
      "outputs": [
        {
          "output_type": "display_data",
          "data": {
            "image/png": "[encoded data removed]",
            "text/plain": [
              "<Figure size 720x288 with 20 Axes>"
            ]
          },
          "metadata": {
            "tags": [],
            "needs_background": "light"
          }
        }
      ]
    },
    {
      "metadata": {
        "colab_type": "code",
        "id": "IbGsJutPqMmQ",
        "colab": {}
      },
      "cell_type": "code",
      "source": [
        "###############2.Image Classification##############\n",
        "#2.1 Deep CNN\n",
        "#Build a deep CNN to classify the images. \n",
        "#Provide a brief description of the architectural choices you’ve made: \n",
        "#kernel sizes, strides, padding, network depth. \n",
        "#Train your network end-to-end. \n",
        "#Report on your model’s performance on training set and test se"
      ],
      "execution_count": 0,
      "outputs": []
    },
    {
      "metadata": {
        "id": "zJ7ae0ZoIHIQ",
        "colab_type": "code",
        "colab": {}
      },
      "cell_type": "code",
      "source": [
        "For this problem, I use fashion mnist as dataset and build an CNN with 2 convolutional layers, then a max pooling layer, and\n",
        "a convolutional layer, a flatten layer and dense layer.\n",
        "\n",
        "The neural network was trained with kernel size 3 by 3, \n",
        "simply set the strides with 1, and no padding therefore in code I wrote padding='VALID'\n",
        "\n",
        "For the result, I filtered with just 5 epochs, and used 128 batches to achieve an accuracy over 98%. \n"
      ],
      "execution_count": 0,
      "outputs": []
    },
    {
      "metadata": {
        "colab_type": "code",
        "id": "NBqsqoKWqMmU",
        "outputId": "7abbe3dc-16fb-4bcd-e8fb-66a0edfc11cd",
        "colab": {
          "base_uri": "https://localhost:8080/",
          "height": 34
        }
      },
      "cell_type": "code",
      "source": [
        "import tensorflow as tf\n",
        "import keras\n",
        "import numpy as np\n",
        "from matplotlib import pyplot as plt\n",
        "import pandas as pd\n",
        "\n",
        "np.random.seed(123)"
      ],
      "execution_count": 1,
      "outputs": [
        {
          "output_type": "stream",
          "text": [
            "Using TensorFlow backend.\n"
          ],
          "name": "stderr"
        }
      ]
    },
    {
      "metadata": {
        "colab_type": "code",
        "id": "UL43jVshqMmW",
        "colab": {}
      },
      "cell_type": "code",
      "source": [
        "from keras.models import Sequential\n",
        "from keras.layers import Dense, Dropout, Activation, Flatten\n",
        "from keras.layers import Conv2D, MaxPooling2D\n",
        "from keras.utils import np_utils"
      ],
      "execution_count": 0,
      "outputs": []
    },
    {
      "metadata": {
        "colab_type": "code",
        "id": "lNSfZoOjqMmY",
        "colab": {}
      },
      "cell_type": "code",
      "source": [
        ""
      ],
      "execution_count": 0,
      "outputs": []
    },
    {
      "metadata": {
        "colab_type": "code",
        "id": "0MG6Xk0hqMma",
        "outputId": "e0563ee7-93d0-45a5-d472-c9637a206408",
        "colab": {
          "base_uri": "https://localhost:8080/",
          "height": 85
        }
      },
      "cell_type": "code",
      "source": [
        "##import fmnist data\n",
        "(x_train, y_train), (x_test, y_test) = tf.keras.datasets.fashion_mnist.load_data()\n",
        "\n",
        "# Shape check and plotting\n",
        "print(x_train.shape)\n",
        "print(y_train.shape)\n",
        "print(x_test.shape)\n",
        "print(y_test.shape)"
      ],
      "execution_count": 4,
      "outputs": [
        {
          "output_type": "stream",
          "text": [
            "(60000, 28, 28)\n",
            "(60000,)\n",
            "(10000, 28, 28)\n",
            "(10000,)\n"
          ],
          "name": "stdout"
        }
      ]
    },
    {
      "metadata": {
        "colab_type": "code",
        "id": "fDVYp48dqMmc",
        "outputId": "32c635af-8563-4078-b28b-ab4dd7c34b3c",
        "colab": {
          "base_uri": "https://localhost:8080/",
          "height": 68
        }
      },
      "cell_type": "code",
      "source": [
        "# ========================\n",
        "#  Data Munging/Reshaping\n",
        "# ========================\n",
        "# Declaring a depth of 1 for fashion MNIST\n",
        "x_train = x_train.reshape(x_train.shape[0], 28, 28,1)\n",
        "x_test = x_test.reshape(x_test.shape[0], 28, 28,1)\n",
        "\n",
        "# Setting up calues as float32s that are bounded between 0 and 1\n",
        "x_train = x_train.astype('float32')\n",
        "x_test = x_test.astype('float32')\n",
        "x_train /= 255\n",
        "x_test /= 255\n",
        "\n",
        "# Processing class labels they are currently a numeric vector\n",
        "# ----> we need to transform them into categories\n",
        "print(y_train.shape)\n",
        "print(y_train[:10])\n",
        "\n",
        "# We do this through one-hot encoding\n",
        "# Convert 1-dimensional class arrays to 10-dimensional class matrices\n",
        "y_train = np_utils.to_categorical(y_train, 10)\n",
        "y_test = np_utils.to_categorical(y_test, 10)\n",
        "# Check the shape\n",
        "print(y_train.shape)"
      ],
      "execution_count": 5,
      "outputs": [
        {
          "output_type": "stream",
          "text": [
            "(60000,)\n",
            "[9 0 0 3 0 2 7 2 5 5]\n",
            "(60000, 10)\n"
          ],
          "name": "stdout"
        }
      ]
    },
    {
      "metadata": {
        "colab_type": "code",
        "id": "kl7GMlQZqMmg",
        "colab": {}
      },
      "cell_type": "code",
      "source": [
        "# =============================\n",
        "#  Setting up the Architecture\n",
        "# ============================\n",
        "model = Sequential()\n",
        "model.add(Conv2D(filters = 32,kernel_size=(3, 3), \n",
        "                 activation='relu', strides=(1, 1), \n",
        "                 padding='valid',\n",
        "                 input_shape=(28,28,1)))\n",
        "model.add(Conv2D(filters = 32,kernel_size=(3, 3), \n",
        "                 activation='relu', strides=(1, 1), \n",
        "                 padding='valid'))\n",
        "model.add(MaxPooling2D(pool_size=(2,2)))\n",
        "model.add(Dropout(0.25))\n",
        "model.add(Flatten())\n",
        "model.add(Dense(64, activation='relu'))\n",
        "model.add(Dropout(0.5))\n",
        "model.add(Dense(10, activation='softmax'))"
      ],
      "execution_count": 0,
      "outputs": []
    },
    {
      "metadata": {
        "colab_type": "code",
        "id": "DBVlh1YrqMmi",
        "colab": {}
      },
      "cell_type": "code",
      "source": [
        "model.compile(loss='categorical_crossentropy',\n",
        "              optimizer='adam',\n",
        "              metrics=['accuracy'])"
      ],
      "execution_count": 0,
      "outputs": []
    },
    {
      "metadata": {
        "colab_type": "code",
        "id": "BWlspIVDqMml",
        "outputId": "52f38acd-5973-48a8-af0e-f1889d87237b",
        "colab": {
          "base_uri": "https://localhost:8080/",
          "height": 34
        }
      },
      "cell_type": "code",
      "source": [
        "train_1=model.fit(x_train, y_train,\n",
        "          epochs=5,\n",
        "          batch_size=128,\n",
        "          validation_data=(x_test,y_test),\n",
        "         verbose = 0)\n",
        "# =====================\n",
        "#  Evaluating the model\n",
        "# =====================\n",
        "score = model.evaluate(x_test, y_test, verbose=1)\n"
      ],
      "execution_count": 12,
      "outputs": [
        {
          "output_type": "stream",
          "text": [
            "10000/10000 [==============================] - 1s 84us/step\n"
          ],
          "name": "stdout"
        }
      ]
    },
    {
      "metadata": {
        "id": "j2rJjMuhJnA6",
        "colab_type": "code",
        "colab": {
          "base_uri": "https://localhost:8080/",
          "height": 393
        },
        "outputId": "6c300bb4-e90c-4467-ac05-0cadd24d72a6"
      },
      "cell_type": "code",
      "source": [
        "from matplotlib import pyplot as plt\n",
        "training_accuracy_1=train_1.history['acc']\n",
        "\n",
        "testing_accuracy_1 = train_1.history['val_acc']\n",
        "plt.figure()\n",
        "plt.plot(training_accuracy_1,'r',label='training accuracy')\n",
        "plt.plot(testing_accuracy_1, 'b', label = 'testing Accuracy')\n",
        "plt.title('The accuracy of training set and testing set')\n",
        "plt.xlabel('No of Epoch')\n",
        "plt.ylabel('Accuracy')\n",
        "plt.legend()\n"
      ],
      "execution_count": 19,
      "outputs": [
        {
          "output_type": "execute_result",
          "data": {
            "text/plain": [
              "<matplotlib.legend.Legend at 0x7f12741e7278>"
            ]
          },
          "metadata": {
            "tags": []
          },
          "execution_count": 19
        },
        {
          "output_type": "display_data",
          "data": {
            "image/png": "[encoded data removed]",
            "text/plain": [
              "<matplotlib.figure.Figure at 0x7f12742b9e80>"
            ]
          },
          "metadata": {
            "tags": []
          }
        }
      ]
    },
    {
      "metadata": {
        "id": "5Os0PJlGLTo8",
        "colab_type": "code",
        "colab": {
          "base_uri": "https://localhost:8080/",
          "height": 34
        },
        "outputId": "34df65d4-79e2-4fdf-a4df-a2df1227b957"
      },
      "cell_type": "code",
      "source": [
        "test_accuracy=score[1]\n",
        "print(\"The accuracy of testing set is\", test_accuracy)\n",
        "#train_accuracy=train_1[1]\n",
        "#print(\"The accuracy of training set is\", train_accuracy)"
      ],
      "execution_count": 21,
      "outputs": [
        {
          "output_type": "stream",
          "text": [
            "The accuracy of testing set is 0.9154\n"
          ],
          "name": "stdout"
        }
      ]
    },
    {
      "metadata": {
        "colab_type": "code",
        "id": "r3V_T3sEqMmz",
        "colab": {}
      },
      "cell_type": "code",
      "source": [
        "#2.2 Transfer Learning\n",
        "## Transfer learning with VGG backbone"
      ],
      "execution_count": 0,
      "outputs": []
    },
    {
      "metadata": {
        "colab_type": "code",
        "id": "gfP17i58quPh",
        "colab": {}
      },
      "cell_type": "code",
      "source": [
        "import cv2\n",
        "from keras.applications import VGG16\n",
        "from keras.datasets import mnist\n",
        "\n",
        "from keras.models import Model\n",
        "from keras.layers import Dense, Flatten, Dropout\n",
        "import cv2 \n",
        "from keras import datasets\n",
        "from keras.optimizers import SGD  \n",
        "import numpy as np\n",
        "\n"
      ],
      "execution_count": 0,
      "outputs": []
    },
    {
      "metadata": {
        "id": "nTMBHn4lLibd",
        "colab_type": "text"
      },
      "cell_type": "markdown",
      "source": [
        "For this problem, I use pre-trained backbone VGG to do hand written number recognization.It will only transfer the structure but\n",
        "not parameters"
      ]
    },
    {
      "metadata": {
        "colab_type": "code",
        "id": "_kBMxRsAue7X",
        "colab": {}
      },
      "cell_type": "code",
      "source": [
        "\n",
        "(x_train, y_train), (x_test, y_test) = tf.keras.datasets.fashion_mnist.load_data()\n"
      ],
      "execution_count": 0,
      "outputs": []
    },
    {
      "metadata": {
        "colab_type": "code",
        "id": "fD9Rt7S-ukjC",
        "outputId": "1d0b6bf3-55fc-4605-ee07-2f648f09eb5f",
        "colab": {
          "base_uri": "https://localhost:8080/",
          "height": 51
        }
      },
      "cell_type": "code",
      "source": [
        "# ========================\n",
        "#  Data Munging/Reshaping\n",
        "# ========================\n",
        "# Declaring a depth of 1 for MNIST\n",
        "x_train = x_train.reshape(x_train.shape[0], 28, 28,1)\n",
        "x_test = x_test.reshape(x_test.shape[0], 28, 28,1)\n",
        "\n",
        "# Setting up calues as float32s that are bounded between 0 and 1\n",
        "x_train = x_train.astype('float32')\n",
        "x_test = x_test.astype('float32')\n",
        "x_train /= 255\n",
        "x_test /= 255\n",
        "\n",
        "# Processing class labels they are currently a numeric vector\n",
        "# ----> we need to transform them into categories\n",
        "print(y_train.shape)\n",
        "print(y_train[:10])\n",
        "\n",
        "# We do this through one-hot encoding\n",
        "# Convert 1-dimensional class arrays to 10-dimensional class matrices\n",
        "y_train = np_utils.to_categorical(y_train, 10)\n",
        "y_test = np_utils.to_categorical(y_test, 10)"
      ],
      "execution_count": 25,
      "outputs": [
        {
          "output_type": "stream",
          "text": [
            "(60000,)\n",
            "[9 0 0 3 0 2 7 2 5 5]\n"
          ],
          "name": "stdout"
        }
      ]
    },
    {
      "metadata": {
        "colab_type": "code",
        "id": "wjxk5Z99qMm2",
        "colab": {}
      },
      "cell_type": "code",
      "source": [
        "x_train = np.asarray([cv2.resize(i, (32,32)) for i in x_train])\n",
        "x_test = np.asarray([cv2.resize(i, (32,32)) for i in x_test])\n",
        "\n",
        "x_train = x_train.reshape(x_train.shape[0], 32, 32,1)\n",
        "x_test = x_test.reshape(x_test.shape[0], 32, 32, 1)\n",
        "\n",
        "x_train = np.asarray([np.squeeze(np.stack((i, )*3, axis = -1)) for i in x_train])\n",
        "x_test = np.asarray([np.squeeze(np.stack((i, )*3, axis = -1)) for i in x_test])"
      ],
      "execution_count": 0,
      "outputs": []
    },
    {
      "metadata": {
        "colab_type": "code",
        "id": "w4YHVV34qMm4",
        "colab": {
          "base_uri": "https://localhost:8080/",
          "height": 71
        },
        "outputId": "39dec583-c78d-4f72-8c86-884e7625b8b7"
      },
      "cell_type": "code",
      "source": [
        "conv_base = VGG16(weights=\"imagenet\",include_top=False,input_shape=(32,32,3))"
      ],
      "execution_count": 28,
      "outputs": [
        {
          "output_type": "stream",
          "text": [
            "Downloading data from https://github.com/fchollet/deep-learning-models/releases/download/v0.1/vgg16_weights_tf_dim_ordering_tf_kernels_notop.h5\n",
            "58892288/58889256 [==============================] - 5s 0us/step\n"
          ],
          "name": "stdout"
        }
      ]
    },
    {
      "metadata": {
        "colab_type": "code",
        "id": "-Nl9M5aEqMm5",
        "outputId": "5d015184-7e06-4994-ee73-9593d0db199d",
        "colab": {
          "base_uri": "https://localhost:8080/",
          "height": 1074
        }
      },
      "cell_type": "code",
      "source": [
        "# fit the model\n",
        "model = Sequential()\n",
        "model.add(conv_base)\n",
        "# add our Feature Extractor\n",
        "model.add(Flatten())\n",
        "model.add(Dense(256, activation=\"relu\"))\n",
        "model.add(Dense(10, activation=\"softmax\"))\n",
        "\n",
        "# freeze the base model weights\n",
        "conv_base.trainable = False\n",
        "# compile\n",
        "model.compile(loss=\"categorical_crossentropy\", \n",
        "              optimizer='adam',\n",
        "              metrics=[\"acc\"])\n",
        "# fit\n",
        "train_2 = model.fit(x_train, y_train,\n",
        "          epochs=30,\n",
        "          batch_size=128,\n",
        "          validation_data=(x_test,y_test),\n",
        "         verbose = 1)"
      ],
      "execution_count": 35,
      "outputs": [
        {
          "output_type": "stream",
          "text": [
            "Train on 60000 samples, validate on 10000 samples\n",
            "Epoch 1/30\n",
            "60000/60000 [==============================] - 22s 367us/step - loss: 0.5928 - acc: 0.7954 - val_loss: 0.4590 - val_acc: 0.8352\n",
            "Epoch 2/30\n",
            "60000/60000 [==============================] - 21s 358us/step - loss: 0.4189 - acc: 0.8473 - val_loss: 0.4218 - val_acc: 0.8485\n",
            "Epoch 3/30\n",
            "60000/60000 [==============================] - 21s 358us/step - loss: 0.3863 - acc: 0.8595 - val_loss: 0.4033 - val_acc: 0.8548\n",
            "Epoch 4/30\n",
            "60000/60000 [==============================] - 21s 358us/step - loss: 0.3651 - acc: 0.8665 - val_loss: 0.3977 - val_acc: 0.8562\n",
            "Epoch 5/30\n",
            "60000/60000 [==============================] - 21s 358us/step - loss: 0.3468 - acc: 0.8725 - val_loss: 0.3886 - val_acc: 0.8605\n",
            "Epoch 6/30\n",
            "60000/60000 [==============================] - 21s 357us/step - loss: 0.3353 - acc: 0.8760 - val_loss: 0.3743 - val_acc: 0.8656\n",
            "Epoch 7/30\n",
            "60000/60000 [==============================] - 21s 358us/step - loss: 0.3247 - acc: 0.8803 - val_loss: 0.3735 - val_acc: 0.8662\n",
            "Epoch 8/30\n",
            "60000/60000 [==============================] - 21s 357us/step - loss: 0.3166 - acc: 0.8833 - val_loss: 0.3746 - val_acc: 0.8644\n",
            "Epoch 9/30\n",
            "60000/60000 [==============================] - 21s 358us/step - loss: 0.3026 - acc: 0.8868 - val_loss: 0.3802 - val_acc: 0.8620\n",
            "Epoch 10/30\n",
            "60000/60000 [==============================] - 21s 358us/step - loss: 0.2972 - acc: 0.8907 - val_loss: 0.3611 - val_acc: 0.8710\n",
            "Epoch 11/30\n",
            "60000/60000 [==============================] - 21s 358us/step - loss: 0.2892 - acc: 0.8932 - val_loss: 0.3761 - val_acc: 0.8682\n",
            "Epoch 12/30\n",
            "60000/60000 [==============================] - 21s 358us/step - loss: 0.2808 - acc: 0.8964 - val_loss: 0.3545 - val_acc: 0.8745\n",
            "Epoch 13/30\n",
            "60000/60000 [==============================] - 21s 358us/step - loss: 0.2708 - acc: 0.9004 - val_loss: 0.3556 - val_acc: 0.8753\n",
            "Epoch 14/30\n",
            "60000/60000 [==============================] - 21s 357us/step - loss: 0.2651 - acc: 0.9003 - val_loss: 0.3758 - val_acc: 0.8698\n",
            "Epoch 15/30\n",
            "60000/60000 [==============================] - 21s 357us/step - loss: 0.2578 - acc: 0.9058 - val_loss: 0.3599 - val_acc: 0.8751\n",
            "Epoch 16/30\n",
            "60000/60000 [==============================] - 21s 357us/step - loss: 0.2521 - acc: 0.9062 - val_loss: 0.3519 - val_acc: 0.8765\n",
            "Epoch 17/30\n",
            "60000/60000 [==============================] - 21s 357us/step - loss: 0.2450 - acc: 0.9099 - val_loss: 0.3532 - val_acc: 0.8773\n",
            "Epoch 18/30\n",
            "60000/60000 [==============================] - 21s 358us/step - loss: 0.2400 - acc: 0.9115 - val_loss: 0.3721 - val_acc: 0.8705\n",
            "Epoch 19/30\n",
            "60000/60000 [==============================] - 21s 357us/step - loss: 0.2331 - acc: 0.9138 - val_loss: 0.3641 - val_acc: 0.8762\n",
            "Epoch 20/30\n",
            "60000/60000 [==============================] - 21s 356us/step - loss: 0.2273 - acc: 0.9173 - val_loss: 0.3560 - val_acc: 0.8773\n",
            "Epoch 21/30\n",
            "60000/60000 [==============================] - 21s 357us/step - loss: 0.2210 - acc: 0.9194 - val_loss: 0.3621 - val_acc: 0.8791\n",
            "Epoch 22/30\n",
            "60000/60000 [==============================] - 21s 357us/step - loss: 0.2155 - acc: 0.9213 - val_loss: 0.3664 - val_acc: 0.8789\n",
            "Epoch 23/30\n",
            "60000/60000 [==============================] - 22s 359us/step - loss: 0.2119 - acc: 0.9224 - val_loss: 0.3641 - val_acc: 0.8764\n",
            "Epoch 24/30\n",
            "60000/60000 [==============================] - 22s 360us/step - loss: 0.2063 - acc: 0.9230 - val_loss: 0.3705 - val_acc: 0.8770\n",
            "Epoch 25/30\n",
            "60000/60000 [==============================] - 22s 360us/step - loss: 0.2018 - acc: 0.9260 - val_loss: 0.3701 - val_acc: 0.8808\n",
            "Epoch 26/30\n",
            "60000/60000 [==============================] - 22s 359us/step - loss: 0.1965 - acc: 0.9276 - val_loss: 0.3696 - val_acc: 0.8790\n",
            "Epoch 27/30\n",
            "60000/60000 [==============================] - 22s 363us/step - loss: 0.1916 - acc: 0.9302 - val_loss: 0.3746 - val_acc: 0.8735\n",
            "Epoch 28/30\n",
            "60000/60000 [==============================] - 22s 359us/step - loss: 0.1880 - acc: 0.9317 - val_loss: 0.3822 - val_acc: 0.8753\n",
            "Epoch 29/30\n",
            "60000/60000 [==============================] - 22s 359us/step - loss: 0.1829 - acc: 0.9335 - val_loss: 0.3662 - val_acc: 0.8822\n",
            "Epoch 30/30\n",
            "60000/60000 [==============================] - 22s 359us/step - loss: 0.1790 - acc: 0.9354 - val_loss: 0.3802 - val_acc: 0.8777\n"
          ],
          "name": "stdout"
        }
      ]
    },
    {
      "metadata": {
        "id": "3AnMdS3JOyK1",
        "colab_type": "text"
      },
      "cell_type": "markdown",
      "source": [
        "From the result of training accuracy, I can see that the accuracy has increased over time. With 10 epochs, the training accuracy is around 90% and 20th epoch is approximately 92%, and 30th epoch has reached over 93%"
      ]
    },
    {
      "metadata": {
        "colab_type": "code",
        "id": "whgY-nvssJe7",
        "outputId": "ef3b6baf-3c79-44e3-a6e7-713d2e3ff08b",
        "colab": {
          "base_uri": "https://localhost:8080/",
          "height": 51
        }
      },
      "cell_type": "code",
      "source": [
        "score1 = model.evaluate(x_test, y_test, verbose=1)\n",
        "test_accuracy1=score1[1]\n",
        "print(\"The accuracy of testing set is\", test_accuracy1)"
      ],
      "execution_count": 36,
      "outputs": [
        {
          "output_type": "stream",
          "text": [
            "10000/10000 [==============================] - 5s 546us/step\n",
            "The accuracy of testing set is 0.8777\n"
          ],
          "name": "stdout"
        }
      ]
    },
    {
      "metadata": {
        "id": "GuJEs6j6PVZ8",
        "colab_type": "text"
      },
      "cell_type": "markdown",
      "source": [
        "However,I previously got a test accuracy with 10th epoch about 86% and 30th epoch is about 88%. Even though the training accuracy has increased a lot but the testing accuracy didn't improve that much"
      ]
    },
    {
      "metadata": {
        "colab_type": "code",
        "id": "A1G2eRx54Lvx",
        "outputId": "8a2a3759-935e-4dc2-a719-571138173792",
        "colab": {
          "base_uri": "https://localhost:8080/",
          "height": 393
        }
      },
      "cell_type": "code",
      "source": [
        "from matplotlib import pyplot as plt\n",
        "training_accuracy_2=train_2.history['acc']\n",
        "\n",
        "testing_accuracy_2 = train_2.history['val_acc']\n",
        "plt.figure()\n",
        "plt.plot(training_accuracy_2,'r',label='training accuracy')\n",
        "plt.plot(testing_accuracy_2, 'b', label = 'testing Accuracy')\n",
        "plt.title('The accuracy of training set and testing set')\n",
        "plt.xlabel('No of Epoch')\n",
        "plt.ylabel('Accuracy')\n",
        "plt.legend()"
      ],
      "execution_count": 37,
      "outputs": [
        {
          "output_type": "execute_result",
          "data": {
            "text/plain": [
              "<matplotlib.legend.Legend at 0x7f125bb8dd68>"
            ]
          },
          "metadata": {
            "tags": []
          },
          "execution_count": 37
        },
        {
          "output_type": "display_data",
          "data": {
            "image/png": "[encoded data removed]",
            "text/plain": [
              "<matplotlib.figure.Figure at 0x7f125caaa390>"
            ]
          },
          "metadata": {
            "tags": []
          }
        }
      ]
    },
    {
      "metadata": {
        "colab_type": "code",
        "id": "fDG2vkMwtSGv",
        "colab": {}
      },
      "cell_type": "code",
      "source": [
        "Finally I can say that by using VGG16 model, and after 30 epochs with 128 batches, the test accuracy of the model \n",
        "achieved at 88%. The test accuracy has not improved a lot after the 13th epoch. When comparing to the test accuracy of \n",
        "question 2.1, it lowered a little bit and it may be caused by overfitting."
      ],
      "execution_count": 0,
      "outputs": []
    },
    {
      "metadata": {
        "colab_type": "code",
        "id": "k10oH0YLqMnA",
        "colab": {},
        "outputId": "f7511bac-358d-40b0-e85d-1d13a7f0aa43"
      },
      "cell_type": "code",
      "source": [
        "##3.Text Classification\n",
        "##3.1 RNN\n",
        "\n",
        "import pandas as pd\n",
        "import numpy as np\n",
        "\n",
        "from sklearn.model_selection import train_test_split\n",
        "from keras.preprocessing import sequence\n",
        "from keras.preprocessing.text import Tokenizer\n",
        "from keras.layers import SimpleRNN, Embedding\n",
        "\n",
        "#loading data and checking length\n",
        "benign=pd.read_csv('benign-urls.txt',header=None)\n",
        "malicious=pd.read_csv('malicious-urls.txt',header=None)\n",
        "print(len(benign))\n",
        "print(len(malicious))"
      ],
      "execution_count": 0,
      "outputs": [
        {
          "output_type": "stream",
          "text": [
            "Using TensorFlow backend.\n"
          ],
          "name": "stderr"
        },
        {
          "output_type": "stream",
          "text": [
            "66057\n",
            "1296\n"
          ],
          "name": "stdout"
        }
      ]
    },
    {
      "metadata": {
        "id": "FqoiUzoDIHJU",
        "colab_type": "code",
        "colab": {},
        "outputId": "b1411a16-9470-4cf6-e587-3501715e9822"
      },
      "cell_type": "code",
      "source": [
        "type(benign)"
      ],
      "execution_count": 0,
      "outputs": [
        {
          "output_type": "execute_result",
          "data": {
            "text/plain": [
              "pandas.core.frame.DataFrame"
            ]
          },
          "metadata": {
            "tags": []
          },
          "execution_count": 2
        }
      ]
    },
    {
      "metadata": {
        "id": "hCj6ZuKVIHJX",
        "colab_type": "code",
        "colab": {}
      },
      "cell_type": "code",
      "source": [
        "##label text\n",
        "benign['label']=0\n",
        "malicious['label']=1"
      ],
      "execution_count": 0,
      "outputs": []
    },
    {
      "metadata": {
        "id": "LUfb8jdNIHJb",
        "colab_type": "code",
        "colab": {},
        "outputId": "e50769fa-3e67-4bb9-a916-f102b4bbd2f3"
      },
      "cell_type": "code",
      "source": [
        "#concat both sets and make labels\n",
        "url=pd.concat([benign,malicious])\n",
        "url.columns=['url','label']\n",
        "url.rename_axis(None)\n",
        "url.head()"
      ],
      "execution_count": 0,
      "outputs": [
        {
          "output_type": "execute_result",
          "data": {
            "text/html": [
              "<div>\n",
              "<style scoped>\n",
              "    .dataframe tbody tr th:only-of-type {\n",
              "        vertical-align: middle;\n",
              "    }\n",
              "\n",
              "    .dataframe tbody tr th {\n",
              "        vertical-align: top;\n",
              "    }\n",
              "\n",
              "    .dataframe thead th {\n",
              "        text-align: right;\n",
              "    }\n",
              "</style>\n",
              "<table border=\"1\" class=\"dataframe\">\n",
              "  <thead>\n",
              "    <tr style=\"text-align: right;\">\n",
              "      <th></th>\n",
              "      <th>url</th>\n",
              "      <th>label</th>\n",
              "    </tr>\n",
              "  </thead>\n",
              "  <tbody>\n",
              "    <tr>\n",
              "      <th>0</th>\n",
              "      <td># GOOGLE</td>\n",
              "      <td>0</td>\n",
              "    </tr>\n",
              "    <tr>\n",
              "      <th>1</th>\n",
              "      <td>.0.blogger.gmodules.com</td>\n",
              "      <td>0</td>\n",
              "    </tr>\n",
              "    <tr>\n",
              "      <th>2</th>\n",
              "      <td>.0.client-channel.google.com</td>\n",
              "      <td>0</td>\n",
              "    </tr>\n",
              "    <tr>\n",
              "      <th>3</th>\n",
              "      <td>.0.docs.google.com</td>\n",
              "      <td>0</td>\n",
              "    </tr>\n",
              "    <tr>\n",
              "      <th>4</th>\n",
              "      <td>.0.drive.google.com</td>\n",
              "      <td>0</td>\n",
              "    </tr>\n",
              "  </tbody>\n",
              "</table>\n",
              "</div>"
            ],
            "text/plain": [
              "                            url  label\n",
              "0                      # GOOGLE      0\n",
              "1       .0.blogger.gmodules.com      0\n",
              "2  .0.client-channel.google.com      0\n",
              "3            .0.docs.google.com      0\n",
              "4           .0.drive.google.com      0"
            ]
          },
          "metadata": {
            "tags": []
          },
          "execution_count": 3
        }
      ]
    },
    {
      "metadata": {
        "id": "fKrbY9jIIHJh",
        "colab_type": "code",
        "colab": {}
      },
      "cell_type": "code",
      "source": [
        "#split into training and test data\n",
        "X_train,X_test,Y_train,Y_test = train_test_split(url['url'],url['label'],test_size=0.15)"
      ],
      "execution_count": 0,
      "outputs": []
    },
    {
      "metadata": {
        "id": "qXDytAYjIHJj",
        "colab_type": "code",
        "colab": {},
        "outputId": "d21e79c4-5dfd-4247-9527-dde6ca593ad8"
      },
      "cell_type": "code",
      "source": [
        "X_train.shape\n"
      ],
      "execution_count": 0,
      "outputs": [
        {
          "output_type": "execute_result",
          "data": {
            "text/plain": [
              "(57250,)"
            ]
          },
          "metadata": {
            "tags": []
          },
          "execution_count": 5
        }
      ]
    },
    {
      "metadata": {
        "id": "swb2PSqBIHJn",
        "colab_type": "code",
        "colab": {},
        "outputId": "29a46f25-8eb0-4a8d-db36-3eaaa16e7d04"
      },
      "cell_type": "code",
      "source": [
        "X_test.shape"
      ],
      "execution_count": 0,
      "outputs": [
        {
          "output_type": "execute_result",
          "data": {
            "text/plain": [
              "(10103,)"
            ]
          },
          "metadata": {
            "tags": []
          },
          "execution_count": 6
        }
      ]
    },
    {
      "metadata": {
        "id": "B3cdgPyrIHJq",
        "colab_type": "code",
        "colab": {}
      },
      "cell_type": "code",
      "source": [
        "from keras.preprocessing.text import Tokenizer\n",
        "tokenizer=Tokenizer(char_level=True)\n",
        "tokenizer.fit_on_texts(X_train)"
      ],
      "execution_count": 0,
      "outputs": []
    },
    {
      "metadata": {
        "id": "hTtOeQX_IHJr",
        "colab_type": "code",
        "colab": {}
      },
      "cell_type": "code",
      "source": [
        "sequences=tokenizer.texts_to_sequences(X_train)\n",
        "X_train=sequence.pad_sequences(sequences,maxlen=86)"
      ],
      "execution_count": 0,
      "outputs": []
    },
    {
      "metadata": {
        "id": "CSFQfQTMIHJw",
        "colab_type": "code",
        "colab": {}
      },
      "cell_type": "code",
      "source": [
        "sequences_2=tokenizer.texts_to_sequences(X_test)\n",
        "X_test=sequence.pad_sequences(sequences_2,maxlen=86)"
      ],
      "execution_count": 0,
      "outputs": []
    },
    {
      "metadata": {
        "id": "ZGMkFTgtIHJy",
        "colab_type": "code",
        "colab": {},
        "outputId": "42d1d5f2-e80a-40b4-9bcf-fc4f41ec4ebe"
      },
      "cell_type": "code",
      "source": [
        "print(X_train.shape)\n",
        "print(Y_train.shape)\n",
        "print(X_test.shape)\n",
        "print(Y_test.shape)"
      ],
      "execution_count": 0,
      "outputs": [
        {
          "output_type": "stream",
          "text": [
            "(57250, 86)\n",
            "(57250,)\n",
            "(10103, 86)\n",
            "(10103,)\n"
          ],
          "name": "stdout"
        }
      ]
    },
    {
      "metadata": {
        "id": "Adx0pXegIHJ1",
        "colab_type": "code",
        "colab": {},
        "outputId": "5ec8d1e4-6afa-486c-ece5-8b6b172e7482"
      },
      "cell_type": "code",
      "source": [
        "from keras.models import Sequential\n",
        "from keras.layers import Dense, Dropout, Activation, Flatten\n",
        "from keras.layers import Conv2D, MaxPooling2D\n",
        "from keras.utils import np_utils\n",
        "from keras.layers.recurrent import LSTM\n",
        "\n",
        "\n",
        "model = Sequential()\n",
        "# embedding layer\n",
        "model.add(Embedding(86, 64))\n",
        "# LSTM\n",
        "model.add(LSTM(128))\n",
        "model.add(Dense(1, activation ='sigmoid'))\n",
        "\n",
        "model.compile(optimizer = 'rmsprop',\n",
        "             loss = 'binary_crossentropy',\n",
        "             metrics=['accuracy'])\n",
        "\n",
        "train_1 = model.fit(X_train, Y_train, \n",
        "                    validation_data=(X_test,Y_test),\n",
        "                    epochs = 5, batch_size = 128, \n",
        "                    verbose=1)"
      ],
      "execution_count": 0,
      "outputs": [
        {
          "output_type": "stream",
          "text": [
            "Train on 57250 samples, validate on 10103 samples\n",
            "Epoch 1/5\n",
            "57250/57250 [==============================] - 115s 2ms/step - loss: 0.0672 - acc: 0.9792 - val_loss: 0.0795 - val_acc: 0.9644\n",
            "Epoch 2/5\n",
            "57250/57250 [==============================] - 112s 2ms/step - loss: 0.0278 - acc: 0.9866 - val_loss: 0.0267 - val_acc: 0.9882\n",
            "Epoch 3/5\n",
            "57250/57250 [==============================] - 114s 2ms/step - loss: 0.0243 - acc: 0.9881 - val_loss: 0.0247 - val_acc: 0.9889\n",
            "Epoch 4/5\n",
            "57250/57250 [==============================] - 109s 2ms/step - loss: 0.0234 - acc: 0.9892 - val_loss: 0.0256 - val_acc: 0.9892\n",
            "Epoch 5/5\n",
            "57250/57250 [==============================] - 102s 2ms/step - loss: 0.0224 - acc: 0.9891 - val_loss: 0.0254 - val_acc: 0.9901\n"
          ],
          "name": "stdout"
        }
      ]
    },
    {
      "metadata": {
        "id": "btL9g_kRIHJ2",
        "colab_type": "code",
        "colab": {},
        "outputId": "884c275d-2008-41d9-98f9-f99892a6cedb"
      },
      "cell_type": "code",
      "source": [
        "from matplotlib import pyplot as plt\n",
        "training_accuracy_1=train_1.history['acc']\n",
        "testing_accuracy_1 = train_1.history['val_acc']\n",
        "\n",
        "plt.plot(training_accuracy_1,'r',label='training accuracy')\n",
        "plt.plot(testing_accuracy_1, 'b', label = 'testing Accuracy')\n",
        "fig.suptitle('The accuracy of training set and testing set')\n",
        "plt.xlabel('No of Epoch')\n",
        "plt.ylabel('Accuracy')\n",
        "plt.legend()\n",
        "plt.figure()"
      ],
      "execution_count": 0,
      "outputs": [
        {
          "output_type": "execute_result",
          "data": {
            "text/plain": [
              "<Figure size 432x288 with 0 Axes>"
            ]
          },
          "metadata": {
            "tags": []
          },
          "execution_count": 23
        },
        {
          "output_type": "display_data",
          "data": {
            "image/png": "[encoded data removed]",
            "text/plain": [
              "<Figure size 432x288 with 1 Axes>"
            ]
          },
          "metadata": {
            "tags": [],
            "needs_background": "light"
          }
        },
        {
          "output_type": "display_data",
          "data": {
            "text/plain": [
              "<Figure size 432x288 with 0 Axes>"
            ]
          },
          "metadata": {
            "tags": []
          }
        }
      ]
    },
    {
      "metadata": {
        "id": "H3dMERLQIHJ5",
        "colab_type": "code",
        "colab": {}
      },
      "cell_type": "code",
      "source": [
        "from keras.layers import Dense, Dropout, Activation, Flatten, LSTM, Embedding\n",
        "from keras.layers import Conv1D, Conv2D, MaxPooling1D, MaxPooling2D, UpSampling2D\n",
        "from keras.utils import np_utils"
      ],
      "execution_count": 0,
      "outputs": []
    },
    {
      "metadata": {
        "colab_type": "code",
        "id": "qQs1vgYEqMnB",
        "colab": {},
        "outputId": "ef8595b2-dd2e-4837-a88a-a4ca1feb95f6"
      },
      "cell_type": "code",
      "source": [
        "##3.2 CNN\n",
        "model1 = Sequential()\n",
        "model1.add(Embedding(86, input_length = 86, output_dim = 32))\n",
        "\n",
        "model1.add(Conv1D(32, 3,\n",
        "                 activation='relu'))\n",
        "model1.add(Dropout(0.5))\n",
        "\n",
        "model1.add(Conv1D(64, 5, \n",
        "                 activation='relu'))\n",
        "\n",
        "model1.add(Flatten())    \n",
        "model1.add(Dense(1, activation ='sigmoid'))\n",
        "\n",
        "model1.compile(optimizer = 'adam',\n",
        "             loss = 'binary_crossentropy',\n",
        "             metrics=['acc'])\n",
        "\n",
        "train_2 = model1.fit(X_train, Y_train, \n",
        "                      validation_data=(X_test,Y_test),\n",
        "                    epochs = 5, batch_size = 128, \n",
        "                    verbose=1)"
      ],
      "execution_count": 0,
      "outputs": [
        {
          "output_type": "stream",
          "text": [
            "Train on 57250 samples, validate on 10103 samples\n",
            "Epoch 1/5\n",
            "57250/57250 [==============================] - 11s 187us/step - loss: 0.0740 - acc: 0.9807 - val_loss: 0.0385 - val_acc: 0.9837\n",
            "Epoch 2/5\n",
            "57250/57250 [==============================] - 10s 172us/step - loss: 0.0332 - acc: 0.9852 - val_loss: 0.0300 - val_acc: 0.9842\n",
            "Epoch 3/5\n",
            "57250/57250 [==============================] - 10s 173us/step - loss: 0.0253 - acc: 0.9875 - val_loss: 0.0238 - val_acc: 0.9898\n",
            "Epoch 4/5\n",
            "57250/57250 [==============================] - 10s 171us/step - loss: 0.0227 - acc: 0.9890 - val_loss: 0.0226 - val_acc: 0.9901\n",
            "Epoch 5/5\n",
            "57250/57250 [==============================] - 10s 168us/step - loss: 0.0210 - acc: 0.9900 - val_loss: 0.0231 - val_acc: 0.9905\n"
          ],
          "name": "stdout"
        }
      ]
    },
    {
      "metadata": {
        "id": "Ksn6nBoTIHKA",
        "colab_type": "code",
        "colab": {},
        "outputId": "d3c40ed6-3d9c-40a0-c2b3-70ffc4322fab"
      },
      "cell_type": "code",
      "source": [
        "from matplotlib import pyplot as plt\n",
        "training_accuracy_2=train_2.history['acc']\n",
        "testing_accuracy_2 = train_2.history['val_acc']\n",
        "\n",
        "\n",
        "plt.plot(training_accuracy_2,'r',label='training accuracy')\n",
        "plt.plot(testing_accuracy_2, 'b', label = 'testing Accuracy')\n",
        "fig.suptitle('The accuracy of training set and test set')\n",
        "plt.xlabel('No of Epoch')\n",
        "plt.ylabel('Accuracy')\n",
        "plt.legend()\n",
        "plt.figure()"
      ],
      "execution_count": 0,
      "outputs": [
        {
          "output_type": "execute_result",
          "data": {
            "text/plain": [
              "<Figure size 432x288 with 0 Axes>"
            ]
          },
          "metadata": {
            "tags": []
          },
          "execution_count": 33
        },
        {
          "output_type": "display_data",
          "data": {
            "image/png": "[encoded data removed]",
            "text/plain": [
              "<Figure size 432x288 with 1 Axes>"
            ]
          },
          "metadata": {
            "tags": [],
            "needs_background": "light"
          }
        },
        {
          "output_type": "display_data",
          "data": {
            "text/plain": [
              "<Figure size 432x288 with 0 Axes>"
            ]
          },
          "metadata": {
            "tags": []
          }
        }
      ]
    },
    {
      "metadata": {
        "id": "Zh5uNrjyIHKB",
        "colab_type": "code",
        "colab": {},
        "outputId": "4097ae20-5ebd-4ae6-820f-4b595cc1ee18"
      },
      "cell_type": "code",
      "source": [
        "#3.3 comparing two methods\n",
        "from sklearn.metrics import roc_curve\n",
        "pred_lstm=model.predict(X_test)\n",
        "pred_cnn=model1.predict(X_test)\n",
        "\n",
        "fpr,tpr,thresholds=roc_curve(Y_test,pred_lstm)\n",
        "fpr2,tpr2,thresholds2=roc_curve(Y_test,pred_cnn)\n",
        "\n",
        "plt.figure(figsize=(6,4))\n",
        "plt.plot(fpr, tpr, label='LSTM')\n",
        "plt.plot(fpr2, tpr2, label='CNN')\n",
        "plt.xlabel('False positive rate')\n",
        "plt.ylabel('True positive rate')\n",
        "plt.ylim(.85, 1)\n",
        "plt.title('ROC curve')\n",
        "plt.legend()\n",
        "plt.show()"
      ],
      "execution_count": 0,
      "outputs": [
        {
          "output_type": "display_data",
          "data": {
            "image/png": "[encoded data removed]",
            "text/plain": [
              "<Figure size 432x288 with 1 Axes>"
            ]
          },
          "metadata": {
            "tags": [],
            "needs_background": "light"
          }
        }
      ]
    },
    {
      "metadata": {
        "id": "EJxoO4-3IHKD",
        "colab_type": "code",
        "colab": {}
      },
      "cell_type": "code",
      "source": [
        ""
      ],
      "execution_count": 0,
      "outputs": []
    }
  ]
}